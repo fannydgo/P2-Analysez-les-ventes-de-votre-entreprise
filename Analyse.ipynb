{
 "cells": [
  {
   "cell_type": "markdown",
   "metadata": {},
   "source": [
    "### Table of Contents\n",
    "\n",
    "* [I. Téléchargement des données](#chapter1)\n",
    "* [II. Mission n°2, analyse des données](#chapter2)\n",
    "    * [1) Analyse des ventes selon les produits](#section_2_1)\n",
    "        * [a. Les livres à succès](#section_2_1_1)\n",
    "        * [b. Les livres invendus](#section_2_1_2)\n",
    "        * [c. CA par article](#section_2_1_3)\n",
    "    * [2) Analyse des clients](#section_2_2)\n",
    "        * [a. Liste des clients qui dépensent le plus](#section_2_2_1)\n",
    "        * [b. Liste des clients inactifs](#section_2_2_2)\n",
    "        * [c. Suppression des clients outliers](#section_2_2_3)\n",
    "        * [d. Indice de gini après la suppression des clients outliers](#section_2_2_4)\n",
    "    * [3) Analyse des prix](#section_2_3)\n",
    "        * [a. Dépenses par article](#section_2_3_1)\n",
    "        * [b. Dépenses par article et par catégorie](#section_2_3_2)\n",
    "    * [4) Analyse des ventes selon le sexe](#section_2_4)\n",
    "        * [a. Répartition homme/femme](#section_2_4_1)\n",
    "        * [b. Répartition des achats selon le sexe et la catégorie](#section_2_4_2)\n",
    "        * [c. Prix du panier moyen selon sexe](#section_2_4_3)\n",
    "    * [5) Analyse du CA](#section_2_5)\n",
    "        * [a. Analyse du CA selon âge](#section_2_5_1)\n",
    "        * [b. Prix du panier moyen selon age](#section_2_5_2)\n",
    "        * [c. Analyse du CA selon la date](#section_2_5_3)\n",
    "        * [d. Analyse du CA du mois d'octobre](#section_2_5_4)\n",
    "* [III. Mission n° 3](#chapter3)\n",
    "    * [1) Corrélation entre le sexe des clients et les catégories de produits achetés](#section_3_1)\n",
    "    * [2) Corrélation entre l'âge des clients et...](#section_3_2)\n",
    "        * [a. Le montant total des achats](#section_3_2_1)\n",
    "        * [b. La fréquence d’achat (ie. nombre d'achats par mois par exemple) ](#section_3_2_2)\n",
    "        * [c. La taille du panier moyen (en nombre d’articles)](#section_3_2_3)\n",
    "        * [d. Les catégories de produits achetés](#section_3_2_4)"
   ]
  },
  {
   "cell_type": "code",
   "execution_count": 1,
   "metadata": {},
   "outputs": [],
   "source": [
    "import pandas as pd\n",
    "import matplotlib.pyplot as plt\n",
    "import numpy as np\n",
    "import statsmodels.api as sm\n",
    "import datetime as dt\n",
    "import seaborn as sns\n",
    "import scipy.stats as st\n",
    "from scipy.stats import chi2_contingency"
   ]
  },
  {
   "cell_type": "markdown",
   "metadata": {},
   "source": [
    "## I. Téléchargement des données <a class=\"anchor\" id=\"section_1\"></a>"
   ]
  },
  {
   "cell_type": "code",
   "execution_count": 2,
   "metadata": {},
   "outputs": [
    {
     "data": {
      "text/html": [
       "<div>\n",
       "<style scoped>\n",
       "    .dataframe tbody tr th:only-of-type {\n",
       "        vertical-align: middle;\n",
       "    }\n",
       "\n",
       "    .dataframe tbody tr th {\n",
       "        vertical-align: top;\n",
       "    }\n",
       "\n",
       "    .dataframe thead th {\n",
       "        text-align: right;\n",
       "    }\n",
       "</style>\n",
       "<table border=\"1\" class=\"dataframe\">\n",
       "  <thead>\n",
       "    <tr style=\"text-align: right;\">\n",
       "      <th></th>\n",
       "      <th>id_prod</th>\n",
       "      <th>price</th>\n",
       "      <th>categ</th>\n",
       "      <th>client_id</th>\n",
       "      <th>sex</th>\n",
       "      <th>birth</th>\n",
       "      <th>date</th>\n",
       "      <th>session_id</th>\n",
       "      <th>date_frmt</th>\n",
       "      <th>age</th>\n",
       "      <th>hour</th>\n",
       "      <th>month</th>\n",
       "      <th>jour</th>\n",
       "      <th>day</th>\n",
       "      <th>greg</th>\n",
       "    </tr>\n",
       "  </thead>\n",
       "  <tbody>\n",
       "    <tr>\n",
       "      <th>0</th>\n",
       "      <td>0_1870</td>\n",
       "      <td>9.06</td>\n",
       "      <td>0</td>\n",
       "      <td>c_5196</td>\n",
       "      <td>m</td>\n",
       "      <td>1976.0</td>\n",
       "      <td>2021-03-01</td>\n",
       "      <td>s_393</td>\n",
       "      <td>2021-03-01 19:18:06.898158</td>\n",
       "      <td>45.0</td>\n",
       "      <td>19:18</td>\n",
       "      <td>March</td>\n",
       "      <td>Monday</td>\n",
       "      <td>1</td>\n",
       "      <td>737850</td>\n",
       "    </tr>\n",
       "    <tr>\n",
       "      <th>1</th>\n",
       "      <td>0_1338</td>\n",
       "      <td>9.28</td>\n",
       "      <td>0</td>\n",
       "      <td>c_6990</td>\n",
       "      <td>f</td>\n",
       "      <td>1986.0</td>\n",
       "      <td>2021-03-01</td>\n",
       "      <td>s_319</td>\n",
       "      <td>2021-03-01 15:14:28.717079</td>\n",
       "      <td>35.0</td>\n",
       "      <td>15:14</td>\n",
       "      <td>March</td>\n",
       "      <td>Monday</td>\n",
       "      <td>1</td>\n",
       "      <td>737850</td>\n",
       "    </tr>\n",
       "    <tr>\n",
       "      <th>2</th>\n",
       "      <td>0_1142</td>\n",
       "      <td>3.42</td>\n",
       "      <td>0</td>\n",
       "      <td>c_6983</td>\n",
       "      <td>m</td>\n",
       "      <td>1989.0</td>\n",
       "      <td>2021-03-01</td>\n",
       "      <td>s_137</td>\n",
       "      <td>2021-03-01 06:13:35.623382</td>\n",
       "      <td>32.0</td>\n",
       "      <td>06:13</td>\n",
       "      <td>March</td>\n",
       "      <td>Monday</td>\n",
       "      <td>1</td>\n",
       "      <td>737850</td>\n",
       "    </tr>\n",
       "    <tr>\n",
       "      <th>3</th>\n",
       "      <td>0_560</td>\n",
       "      <td>4.53</td>\n",
       "      <td>0</td>\n",
       "      <td>c_4103</td>\n",
       "      <td>f</td>\n",
       "      <td>1980.0</td>\n",
       "      <td>2021-03-01</td>\n",
       "      <td>s_233</td>\n",
       "      <td>2021-03-01 11:25:45.668969</td>\n",
       "      <td>41.0</td>\n",
       "      <td>11:25</td>\n",
       "      <td>March</td>\n",
       "      <td>Monday</td>\n",
       "      <td>1</td>\n",
       "      <td>737850</td>\n",
       "    </tr>\n",
       "    <tr>\n",
       "      <th>4</th>\n",
       "      <td>0_1029</td>\n",
       "      <td>7.99</td>\n",
       "      <td>0</td>\n",
       "      <td>c_7246</td>\n",
       "      <td>m</td>\n",
       "      <td>1976.0</td>\n",
       "      <td>2021-03-01</td>\n",
       "      <td>s_116</td>\n",
       "      <td>2021-03-01 05:26:21.487685</td>\n",
       "      <td>45.0</td>\n",
       "      <td>05:26</td>\n",
       "      <td>March</td>\n",
       "      <td>Monday</td>\n",
       "      <td>1</td>\n",
       "      <td>737850</td>\n",
       "    </tr>\n",
       "    <tr>\n",
       "      <th>...</th>\n",
       "      <td>...</td>\n",
       "      <td>...</td>\n",
       "      <td>...</td>\n",
       "      <td>...</td>\n",
       "      <td>...</td>\n",
       "      <td>...</td>\n",
       "      <td>...</td>\n",
       "      <td>...</td>\n",
       "      <td>...</td>\n",
       "      <td>...</td>\n",
       "      <td>...</td>\n",
       "      <td>...</td>\n",
       "      <td>...</td>\n",
       "      <td>...</td>\n",
       "      <td>...</td>\n",
       "    </tr>\n",
       "    <tr>\n",
       "      <th>336811</th>\n",
       "      <td>1_296</td>\n",
       "      <td>24.67</td>\n",
       "      <td>1</td>\n",
       "      <td>c_1092</td>\n",
       "      <td>f</td>\n",
       "      <td>1972.0</td>\n",
       "      <td>2022-02-28</td>\n",
       "      <td>s_171938</td>\n",
       "      <td>2022-02-28 00:32:05.527835</td>\n",
       "      <td>50.0</td>\n",
       "      <td>00:32</td>\n",
       "      <td>February</td>\n",
       "      <td>Monday</td>\n",
       "      <td>28</td>\n",
       "      <td>738214</td>\n",
       "    </tr>\n",
       "    <tr>\n",
       "      <th>336812</th>\n",
       "      <td>1_448</td>\n",
       "      <td>13.79</td>\n",
       "      <td>1</td>\n",
       "      <td>c_359</td>\n",
       "      <td>f</td>\n",
       "      <td>1988.0</td>\n",
       "      <td>2022-02-28</td>\n",
       "      <td>s_172385</td>\n",
       "      <td>2022-02-28 22:16:21.571957</td>\n",
       "      <td>34.0</td>\n",
       "      <td>22:16</td>\n",
       "      <td>February</td>\n",
       "      <td>Monday</td>\n",
       "      <td>28</td>\n",
       "      <td>738214</td>\n",
       "    </tr>\n",
       "    <tr>\n",
       "      <th>336813</th>\n",
       "      <td>1_388</td>\n",
       "      <td>16.70</td>\n",
       "      <td>1</td>\n",
       "      <td>c_6878</td>\n",
       "      <td>m</td>\n",
       "      <td>1950.0</td>\n",
       "      <td>2022-02-28</td>\n",
       "      <td>s_172405</td>\n",
       "      <td>2022-02-28 22:52:38.395706</td>\n",
       "      <td>72.0</td>\n",
       "      <td>22:52</td>\n",
       "      <td>February</td>\n",
       "      <td>Monday</td>\n",
       "      <td>28</td>\n",
       "      <td>738214</td>\n",
       "    </tr>\n",
       "    <tr>\n",
       "      <th>336814</th>\n",
       "      <td>0_1400</td>\n",
       "      <td>5.15</td>\n",
       "      <td>0</td>\n",
       "      <td>c_8294</td>\n",
       "      <td>f</td>\n",
       "      <td>1966.0</td>\n",
       "      <td>2022-02-28</td>\n",
       "      <td>s_172037</td>\n",
       "      <td>2022-02-28 05:23:22.894171</td>\n",
       "      <td>56.0</td>\n",
       "      <td>05:23</td>\n",
       "      <td>February</td>\n",
       "      <td>Monday</td>\n",
       "      <td>28</td>\n",
       "      <td>738214</td>\n",
       "    </tr>\n",
       "    <tr>\n",
       "      <th>336815</th>\n",
       "      <td>0_1499</td>\n",
       "      <td>11.99</td>\n",
       "      <td>0</td>\n",
       "      <td>c_4784</td>\n",
       "      <td>f</td>\n",
       "      <td>1981.0</td>\n",
       "      <td>2022-02-28</td>\n",
       "      <td>s_172365</td>\n",
       "      <td>2022-02-28 21:04:01.765028</td>\n",
       "      <td>41.0</td>\n",
       "      <td>21:04</td>\n",
       "      <td>February</td>\n",
       "      <td>Monday</td>\n",
       "      <td>28</td>\n",
       "      <td>738214</td>\n",
       "    </tr>\n",
       "  </tbody>\n",
       "</table>\n",
       "<p>336816 rows × 15 columns</p>\n",
       "</div>"
      ],
      "text/plain": [
       "       id_prod  price  categ client_id sex   birth       date session_id  \\\n",
       "0       0_1870   9.06      0    c_5196   m  1976.0 2021-03-01      s_393   \n",
       "1       0_1338   9.28      0    c_6990   f  1986.0 2021-03-01      s_319   \n",
       "2       0_1142   3.42      0    c_6983   m  1989.0 2021-03-01      s_137   \n",
       "3        0_560   4.53      0    c_4103   f  1980.0 2021-03-01      s_233   \n",
       "4       0_1029   7.99      0    c_7246   m  1976.0 2021-03-01      s_116   \n",
       "...        ...    ...    ...       ...  ..     ...        ...        ...   \n",
       "336811   1_296  24.67      1    c_1092   f  1972.0 2022-02-28   s_171938   \n",
       "336812   1_448  13.79      1     c_359   f  1988.0 2022-02-28   s_172385   \n",
       "336813   1_388  16.70      1    c_6878   m  1950.0 2022-02-28   s_172405   \n",
       "336814  0_1400   5.15      0    c_8294   f  1966.0 2022-02-28   s_172037   \n",
       "336815  0_1499  11.99      0    c_4784   f  1981.0 2022-02-28   s_172365   \n",
       "\n",
       "                         date_frmt   age   hour     month    jour  day    greg  \n",
       "0       2021-03-01 19:18:06.898158  45.0  19:18     March  Monday    1  737850  \n",
       "1       2021-03-01 15:14:28.717079  35.0  15:14     March  Monday    1  737850  \n",
       "2       2021-03-01 06:13:35.623382  32.0  06:13     March  Monday    1  737850  \n",
       "3       2021-03-01 11:25:45.668969  41.0  11:25     March  Monday    1  737850  \n",
       "4       2021-03-01 05:26:21.487685  45.0  05:26     March  Monday    1  737850  \n",
       "...                            ...   ...    ...       ...     ...  ...     ...  \n",
       "336811  2022-02-28 00:32:05.527835  50.0  00:32  February  Monday   28  738214  \n",
       "336812  2022-02-28 22:16:21.571957  34.0  22:16  February  Monday   28  738214  \n",
       "336813  2022-02-28 22:52:38.395706  72.0  22:52  February  Monday   28  738214  \n",
       "336814  2022-02-28 05:23:22.894171  56.0  05:23  February  Monday   28  738214  \n",
       "336815  2022-02-28 21:04:01.765028  41.0  21:04  February  Monday   28  738214  \n",
       "\n",
       "[336816 rows x 15 columns]"
      ]
     },
     "execution_count": 2,
     "metadata": {},
     "output_type": "execute_result"
    }
   ],
   "source": [
    "customers = pd.read_csv(\"customers.csv\")\n",
    "products = pd.read_csv(\"products.csv\")\n",
    "transactions = pd.read_csv(\"transactions.csv\", parse_dates=[1])\n",
    "info_id = pd.read_csv(\"info_id.csv\", parse_dates=[6])\n",
    "info_id"
   ]
  },
  {
   "cell_type": "markdown",
   "metadata": {},
   "source": [
    "## II. Mission n° 2, analyse des données <a class=\"anchor\" id=\"section_2\"></a>"
   ]
  },
  {
   "cell_type": "markdown",
   "metadata": {},
   "source": [
    "### 1) Analyse des ventes selon les produits <a class=\"anchor\" id=\"section_2_1\"></a>"
   ]
  },
  {
   "cell_type": "markdown",
   "metadata": {},
   "source": [
    "#### a. Les livres à succès  <a class=\"anchor\" id=\"section_2_1_1\"></a>"
   ]
  },
  {
   "cell_type": "code",
   "execution_count": 3,
   "metadata": {},
   "outputs": [
    {
     "data": {
      "text/html": [
       "<div>\n",
       "<style scoped>\n",
       "    .dataframe tbody tr th:only-of-type {\n",
       "        vertical-align: middle;\n",
       "    }\n",
       "\n",
       "    .dataframe tbody tr th {\n",
       "        vertical-align: top;\n",
       "    }\n",
       "\n",
       "    .dataframe thead th {\n",
       "        text-align: right;\n",
       "    }\n",
       "</style>\n",
       "<table border=\"1\" class=\"dataframe\">\n",
       "  <thead>\n",
       "    <tr style=\"text-align: right;\">\n",
       "      <th></th>\n",
       "      <th>id_prod</th>\n",
       "      <th>quantity</th>\n",
       "    </tr>\n",
       "  </thead>\n",
       "  <tbody>\n",
       "    <tr>\n",
       "      <th>2591</th>\n",
       "      <td>1_369</td>\n",
       "      <td>1081</td>\n",
       "    </tr>\n",
       "    <tr>\n",
       "      <th>2644</th>\n",
       "      <td>1_417</td>\n",
       "      <td>1062</td>\n",
       "    </tr>\n",
       "    <tr>\n",
       "      <th>2733</th>\n",
       "      <td>1_498</td>\n",
       "      <td>1036</td>\n",
       "    </tr>\n",
       "    <tr>\n",
       "      <th>2641</th>\n",
       "      <td>1_414</td>\n",
       "      <td>1027</td>\n",
       "    </tr>\n",
       "    <tr>\n",
       "      <th>2653</th>\n",
       "      <td>1_425</td>\n",
       "      <td>1013</td>\n",
       "    </tr>\n",
       "    <tr>\n",
       "      <th>2622</th>\n",
       "      <td>1_398</td>\n",
       "      <td>952</td>\n",
       "    </tr>\n",
       "    <tr>\n",
       "      <th>2632</th>\n",
       "      <td>1_406</td>\n",
       "      <td>946</td>\n",
       "    </tr>\n",
       "    <tr>\n",
       "      <th>2640</th>\n",
       "      <td>1_413</td>\n",
       "      <td>944</td>\n",
       "    </tr>\n",
       "    <tr>\n",
       "      <th>2629</th>\n",
       "      <td>1_403</td>\n",
       "      <td>939</td>\n",
       "    </tr>\n",
       "    <tr>\n",
       "      <th>2633</th>\n",
       "      <td>1_407</td>\n",
       "      <td>933</td>\n",
       "    </tr>\n",
       "    <tr>\n",
       "      <th>2639</th>\n",
       "      <td>1_412</td>\n",
       "      <td>931</td>\n",
       "    </tr>\n",
       "    <tr>\n",
       "      <th>2620</th>\n",
       "      <td>1_396</td>\n",
       "      <td>929</td>\n",
       "    </tr>\n",
       "    <tr>\n",
       "      <th>2626</th>\n",
       "      <td>1_400</td>\n",
       "      <td>903</td>\n",
       "    </tr>\n",
       "    <tr>\n",
       "      <th>2619</th>\n",
       "      <td>1_395</td>\n",
       "      <td>891</td>\n",
       "    </tr>\n",
       "    <tr>\n",
       "      <th>2617</th>\n",
       "      <td>1_392</td>\n",
       "      <td>887</td>\n",
       "    </tr>\n",
       "  </tbody>\n",
       "</table>\n",
       "</div>"
      ],
      "text/plain": [
       "     id_prod  quantity\n",
       "2591   1_369      1081\n",
       "2644   1_417      1062\n",
       "2733   1_498      1036\n",
       "2641   1_414      1027\n",
       "2653   1_425      1013\n",
       "2622   1_398       952\n",
       "2632   1_406       946\n",
       "2640   1_413       944\n",
       "2629   1_403       939\n",
       "2633   1_407       933\n",
       "2639   1_412       931\n",
       "2620   1_396       929\n",
       "2626   1_400       903\n",
       "2619   1_395       891\n",
       "2617   1_392       887"
      ]
     },
     "execution_count": 3,
     "metadata": {},
     "output_type": "execute_result"
    }
   ],
   "source": [
    "top_prod = info_id.groupby([\"id_prod\"], as_index=False)['price'].count()\n",
    "top_prod.rename(columns={'price': 'quantity'}, inplace=True)\n",
    "top_prod = top_prod.sort_values(by = 'quantity', ascending = False)\n",
    "top_prod.head(15)"
   ]
  },
  {
   "cell_type": "markdown",
   "metadata": {},
   "source": [
    "Les trois livres qui ont le plus de succès sont : 1_369, 1_417 et 1_498"
   ]
  },
  {
   "cell_type": "markdown",
   "metadata": {},
   "source": [
    "#### b. Les livres invendus <a class=\"anchor\" id=\"section_2_1_2\"></a>"
   ]
  },
  {
   "cell_type": "code",
   "execution_count": 4,
   "metadata": {},
   "outputs": [
    {
     "data": {
      "text/plain": [
       "1_369     1081\n",
       "1_417     1062\n",
       "1_498     1036\n",
       "1_414     1027\n",
       "1_425     1013\n",
       "          ... \n",
       "0_1624       1\n",
       "0_1318       1\n",
       "0_1803       1\n",
       "0_1601       1\n",
       "2_86         1\n",
       "Name: id_prod, Length: 3287, dtype: int64"
      ]
     },
     "execution_count": 4,
     "metadata": {},
     "output_type": "execute_result"
    }
   ],
   "source": [
    "l_invendus = pd.merge(products,info_id, on='id_prod', how='outer')\n",
    "l_invendus['id_prod'] = l_invendus['id_prod'].astype('str')\n",
    "l_invendus = l_invendus[~l_invendus['id_prod'].str.match('T')]\n",
    "l_invendus['id_prod'].value_counts()"
   ]
  },
  {
   "cell_type": "code",
   "execution_count": 5,
   "metadata": {},
   "outputs": [
    {
     "data": {
      "text/html": [
       "<div>\n",
       "<style scoped>\n",
       "    .dataframe tbody tr th:only-of-type {\n",
       "        vertical-align: middle;\n",
       "    }\n",
       "\n",
       "    .dataframe tbody tr th {\n",
       "        vertical-align: top;\n",
       "    }\n",
       "\n",
       "    .dataframe thead th {\n",
       "        text-align: right;\n",
       "    }\n",
       "</style>\n",
       "<table border=\"1\" class=\"dataframe\">\n",
       "  <thead>\n",
       "    <tr style=\"text-align: right;\">\n",
       "      <th></th>\n",
       "      <th>id_prod</th>\n",
       "    </tr>\n",
       "  </thead>\n",
       "  <tbody>\n",
       "    <tr>\n",
       "      <th>19685</th>\n",
       "      <td>0_1016</td>\n",
       "    </tr>\n",
       "    <tr>\n",
       "      <th>31123</th>\n",
       "      <td>0_1780</td>\n",
       "    </tr>\n",
       "    <tr>\n",
       "      <th>80899</th>\n",
       "      <td>0_1062</td>\n",
       "    </tr>\n",
       "    <tr>\n",
       "      <th>88225</th>\n",
       "      <td>0_1119</td>\n",
       "    </tr>\n",
       "    <tr>\n",
       "      <th>90040</th>\n",
       "      <td>0_1014</td>\n",
       "    </tr>\n",
       "    <tr>\n",
       "      <th>93445</th>\n",
       "      <td>1_0</td>\n",
       "    </tr>\n",
       "    <tr>\n",
       "      <th>114537</th>\n",
       "      <td>0_1318</td>\n",
       "    </tr>\n",
       "    <tr>\n",
       "      <th>125974</th>\n",
       "      <td>0_1800</td>\n",
       "    </tr>\n",
       "    <tr>\n",
       "      <th>144153</th>\n",
       "      <td>0_1645</td>\n",
       "    </tr>\n",
       "    <tr>\n",
       "      <th>159270</th>\n",
       "      <td>0_322</td>\n",
       "    </tr>\n",
       "    <tr>\n",
       "      <th>162242</th>\n",
       "      <td>0_1620</td>\n",
       "    </tr>\n",
       "    <tr>\n",
       "      <th>162716</th>\n",
       "      <td>0_1025</td>\n",
       "    </tr>\n",
       "    <tr>\n",
       "      <th>178346</th>\n",
       "      <td>2_87</td>\n",
       "    </tr>\n",
       "    <tr>\n",
       "      <th>195662</th>\n",
       "      <td>1_394</td>\n",
       "    </tr>\n",
       "    <tr>\n",
       "      <th>205014</th>\n",
       "      <td>2_72</td>\n",
       "    </tr>\n",
       "    <tr>\n",
       "      <th>227848</th>\n",
       "      <td>0_310</td>\n",
       "    </tr>\n",
       "    <tr>\n",
       "      <th>248941</th>\n",
       "      <td>0_1624</td>\n",
       "    </tr>\n",
       "    <tr>\n",
       "      <th>255623</th>\n",
       "      <td>0_525</td>\n",
       "    </tr>\n",
       "    <tr>\n",
       "      <th>261470</th>\n",
       "      <td>2_86</td>\n",
       "    </tr>\n",
       "    <tr>\n",
       "      <th>277291</th>\n",
       "      <td>0_299</td>\n",
       "    </tr>\n",
       "    <tr>\n",
       "      <th>312075</th>\n",
       "      <td>0_510</td>\n",
       "    </tr>\n",
       "    <tr>\n",
       "      <th>317834</th>\n",
       "      <td>0_2308</td>\n",
       "    </tr>\n",
       "  </tbody>\n",
       "</table>\n",
       "</div>"
      ],
      "text/plain": [
       "       id_prod\n",
       "19685   0_1016\n",
       "31123   0_1780\n",
       "80899   0_1062\n",
       "88225   0_1119\n",
       "90040   0_1014\n",
       "93445      1_0\n",
       "114537  0_1318\n",
       "125974  0_1800\n",
       "144153  0_1645\n",
       "159270   0_322\n",
       "162242  0_1620\n",
       "162716  0_1025\n",
       "178346    2_87\n",
       "195662   1_394\n",
       "205014    2_72\n",
       "227848   0_310\n",
       "248941  0_1624\n",
       "255623   0_525\n",
       "261470    2_86\n",
       "277291   0_299\n",
       "312075   0_510\n",
       "317834  0_2308"
      ]
     },
     "execution_count": 5,
     "metadata": {},
     "output_type": "execute_result"
    }
   ],
   "source": [
    "NaN_livres = l_invendus[l_invendus['date'].isna()]\n",
    "NaN_livres.loc[:,['id_prod']]"
   ]
  },
  {
   "cell_type": "markdown",
   "metadata": {},
   "source": [
    "Aucun de ces articles, sur les \"3287\" référencés, n'a été vendu durant la période d'étude"
   ]
  },
  {
   "cell_type": "markdown",
   "metadata": {},
   "source": [
    "#### c. CA par article <a class=\"anchor\" id=\"section_2_1_3\"></a>"
   ]
  },
  {
   "cell_type": "code",
   "execution_count": 6,
   "metadata": {},
   "outputs": [
    {
     "data": {
      "text/html": [
       "<div>\n",
       "<style scoped>\n",
       "    .dataframe tbody tr th:only-of-type {\n",
       "        vertical-align: middle;\n",
       "    }\n",
       "\n",
       "    .dataframe tbody tr th {\n",
       "        vertical-align: top;\n",
       "    }\n",
       "\n",
       "    .dataframe thead th {\n",
       "        text-align: right;\n",
       "    }\n",
       "</style>\n",
       "<table border=\"1\" class=\"dataframe\">\n",
       "  <thead>\n",
       "    <tr style=\"text-align: right;\">\n",
       "      <th></th>\n",
       "      <th>id_prod</th>\n",
       "      <th>price</th>\n",
       "    </tr>\n",
       "  </thead>\n",
       "  <tbody>\n",
       "    <tr>\n",
       "      <th>3070</th>\n",
       "      <td>2_135</td>\n",
       "      <td>33874.09</td>\n",
       "    </tr>\n",
       "    <tr>\n",
       "      <th>3045</th>\n",
       "      <td>2_112</td>\n",
       "      <td>31960.61</td>\n",
       "    </tr>\n",
       "    <tr>\n",
       "      <th>3034</th>\n",
       "      <td>2_102</td>\n",
       "      <td>28919.46</td>\n",
       "    </tr>\n",
       "    <tr>\n",
       "      <th>3152</th>\n",
       "      <td>2_209</td>\n",
       "      <td>27296.10</td>\n",
       "    </tr>\n",
       "    <tr>\n",
       "      <th>3043</th>\n",
       "      <td>2_110</td>\n",
       "      <td>27016.50</td>\n",
       "    </tr>\n",
       "    <tr>\n",
       "      <th>2591</th>\n",
       "      <td>1_369</td>\n",
       "      <td>25933.19</td>\n",
       "    </tr>\n",
       "    <tr>\n",
       "      <th>2619</th>\n",
       "      <td>1_395</td>\n",
       "      <td>25830.09</td>\n",
       "    </tr>\n",
       "    <tr>\n",
       "      <th>3104</th>\n",
       "      <td>2_166</td>\n",
       "      <td>25534.44</td>\n",
       "    </tr>\n",
       "    <tr>\n",
       "      <th>3206</th>\n",
       "      <td>2_43</td>\n",
       "      <td>25266.39</td>\n",
       "    </tr>\n",
       "    <tr>\n",
       "      <th>3201</th>\n",
       "      <td>2_39</td>\n",
       "      <td>25225.65</td>\n",
       "    </tr>\n",
       "    <tr>\n",
       "      <th>2607</th>\n",
       "      <td>1_383</td>\n",
       "      <td>24931.40</td>\n",
       "    </tr>\n",
       "    <tr>\n",
       "      <th>2641</th>\n",
       "      <td>1_414</td>\n",
       "      <td>24473.41</td>\n",
       "    </tr>\n",
       "    <tr>\n",
       "      <th>2733</th>\n",
       "      <td>1_498</td>\n",
       "      <td>24211.32</td>\n",
       "    </tr>\n",
       "    <tr>\n",
       "      <th>3145</th>\n",
       "      <td>2_202</td>\n",
       "      <td>23514.36</td>\n",
       "    </tr>\n",
       "    <tr>\n",
       "      <th>2632</th>\n",
       "      <td>1_406</td>\n",
       "      <td>23470.26</td>\n",
       "    </tr>\n",
       "  </tbody>\n",
       "</table>\n",
       "</div>"
      ],
      "text/plain": [
       "     id_prod     price\n",
       "3070   2_135  33874.09\n",
       "3045   2_112  31960.61\n",
       "3034   2_102  28919.46\n",
       "3152   2_209  27296.10\n",
       "3043   2_110  27016.50\n",
       "2591   1_369  25933.19\n",
       "2619   1_395  25830.09\n",
       "3104   2_166  25534.44\n",
       "3206    2_43  25266.39\n",
       "3201    2_39  25225.65\n",
       "2607   1_383  24931.40\n",
       "2641   1_414  24473.41\n",
       "2733   1_498  24211.32\n",
       "3145   2_202  23514.36\n",
       "2632   1_406  23470.26"
      ]
     },
     "execution_count": 6,
     "metadata": {},
     "output_type": "execute_result"
    }
   ],
   "source": [
    "id_prod_dep = info_id.groupby([\"id_prod\"], as_index=False)[\"price\"].sum()\n",
    "id_prod_dep = id_prod_dep.sort_values(by = 'price', ascending = False)\n",
    "id_prod_dep.head(15)"
   ]
  },
  {
   "cell_type": "markdown",
   "metadata": {},
   "source": [
    "Classement des articles selon le CA qu'ils génèrent"
   ]
  },
  {
   "cell_type": "code",
   "execution_count": 7,
   "metadata": {},
   "outputs": [
    {
     "data": {
      "image/png": "[encoded data removed]",
      "text/plain": [
       "<Figure size 576x432 with 1 Axes>"
      ]
     },
     "metadata": {
      "needs_background": "light"
     },
     "output_type": "display_data"
    }
   ],
   "source": [
    "plt.figure(figsize=(8,6))\n",
    "plt.title('CA par article',fontsize=14) \n",
    "id_prod_dep.boxplot(column=\"price\", vert=False,showfliers=False)\n",
    "plt.show()"
   ]
  },
  {
   "cell_type": "markdown",
   "metadata": {},
   "source": [
    "##### Courbe de Lorenz"
   ]
  },
  {
   "cell_type": "code",
   "execution_count": 8,
   "metadata": {},
   "outputs": [
    {
     "data": {
      "image/png": "[encoded data removed]",
      "text/plain": [
       "<Figure size 576x432 with 1 Axes>"
      ]
     },
     "metadata": {
      "needs_background": "light"
     },
     "output_type": "display_data"
    }
   ],
   "source": [
    "dep = id_prod_dep['price'].values\n",
    "n = len(dep)\n",
    "lorenz = np.cumsum(np.sort(dep)) / dep.sum()\n",
    "lorenz = np.append([0],lorenz) \n",
    "\n",
    "plt.figure(figsize=(8, 6))\n",
    "plt.title('Lorenz - Dépenses par produit',fontsize=14) \n",
    "xaxis = np.linspace(0-1/n,1+1/n,n+1) \n",
    "plt.plot(xaxis,lorenz,drawstyle='steps-post')\n",
    "plt.fill_between(xaxis,xaxis,lorenz, color='powderblue')\n",
    "plt.show()"
   ]
  },
  {
   "cell_type": "markdown",
   "metadata": {},
   "source": [
    "##### Indice de gini"
   ]
  },
  {
   "cell_type": "code",
   "execution_count": 9,
   "metadata": {},
   "outputs": [
    {
     "data": {
      "text/plain": [
       "0.7384609271410616"
      ]
     },
     "execution_count": 9,
     "metadata": {},
     "output_type": "execute_result"
    }
   ],
   "source": [
    "AUC = (lorenz.sum() -lorenz[-1]/2 -lorenz[0]/2)/n # Surface sous la courbe de Lorenz. Le premier segment (lorenz[0]) est à moitié en dessous de 0, on le coupe donc en 2, on fait de même pour le dernier segment lorenz[-1] qui est à moitié au dessus de 1.\n",
    "S = 0.5 - AUC # surface entre la première bissectrice et le courbe de Lorenz\n",
    "gini = 2*S\n",
    "gini"
   ]
  },
  {
   "cell_type": "markdown",
   "metadata": {},
   "source": [
    "Entre 0 et 1, l'inégalité est d'autant plus forte que l'indice de Gini est élevé. On peut constater, avec un indice de 0,73 que les dépenses par produit ou CA par article ne sont pas équitablement répartis. Cette repartition inégalitaire se vérifie sur la boite à moustaches. "
   ]
  },
  {
   "cell_type": "markdown",
   "metadata": {},
   "source": [
    "### 2) Analyse des clients <a class=\"anchor\" id=\"section_2_2\"></a>"
   ]
  },
  {
   "cell_type": "markdown",
   "metadata": {},
   "source": [
    "#### a. Liste des clients qui dépensent le plus <a class=\"anchor\" id=\"section_2_2_1\"></a>"
   ]
  },
  {
   "cell_type": "code",
   "execution_count": 10,
   "metadata": {},
   "outputs": [
    {
     "data": {
      "text/html": [
       "<div>\n",
       "<style scoped>\n",
       "    .dataframe tbody tr th:only-of-type {\n",
       "        vertical-align: middle;\n",
       "    }\n",
       "\n",
       "    .dataframe tbody tr th {\n",
       "        vertical-align: top;\n",
       "    }\n",
       "\n",
       "    .dataframe thead th {\n",
       "        text-align: right;\n",
       "    }\n",
       "</style>\n",
       "<table border=\"1\" class=\"dataframe\">\n",
       "  <thead>\n",
       "    <tr style=\"text-align: right;\">\n",
       "      <th></th>\n",
       "      <th>client_id</th>\n",
       "      <th>price</th>\n",
       "    </tr>\n",
       "  </thead>\n",
       "  <tbody>\n",
       "    <tr>\n",
       "      <th>677</th>\n",
       "      <td>c_1609</td>\n",
       "      <td>162007.340000</td>\n",
       "    </tr>\n",
       "    <tr>\n",
       "      <th>4388</th>\n",
       "      <td>c_4958</td>\n",
       "      <td>144257.210000</td>\n",
       "    </tr>\n",
       "    <tr>\n",
       "      <th>6337</th>\n",
       "      <td>c_6714</td>\n",
       "      <td>73220.805589</td>\n",
       "    </tr>\n",
       "    <tr>\n",
       "      <th>2724</th>\n",
       "      <td>c_3454</td>\n",
       "      <td>54466.385589</td>\n",
       "    </tr>\n",
       "    <tr>\n",
       "      <th>7715</th>\n",
       "      <td>c_7959</td>\n",
       "      <td>2564.250000</td>\n",
       "    </tr>\n",
       "    <tr>\n",
       "      <th>7791</th>\n",
       "      <td>c_8026</td>\n",
       "      <td>2549.402795</td>\n",
       "    </tr>\n",
       "    <tr>\n",
       "      <th>3870</th>\n",
       "      <td>c_4491</td>\n",
       "      <td>2540.530000</td>\n",
       "    </tr>\n",
       "    <tr>\n",
       "      <th>1268</th>\n",
       "      <td>c_2140</td>\n",
       "      <td>2527.010000</td>\n",
       "    </tr>\n",
       "    <tr>\n",
       "      <th>8195</th>\n",
       "      <td>c_8392</td>\n",
       "      <td>2515.980000</td>\n",
       "    </tr>\n",
       "    <tr>\n",
       "      <th>7120</th>\n",
       "      <td>c_7421</td>\n",
       "      <td>2511.980000</td>\n",
       "    </tr>\n",
       "    <tr>\n",
       "      <th>2513</th>\n",
       "      <td>c_3263</td>\n",
       "      <td>2493.320000</td>\n",
       "    </tr>\n",
       "    <tr>\n",
       "      <th>3024</th>\n",
       "      <td>c_3725</td>\n",
       "      <td>2450.380000</td>\n",
       "    </tr>\n",
       "    <tr>\n",
       "      <th>8469</th>\n",
       "      <td>c_880</td>\n",
       "      <td>2432.390000</td>\n",
       "    </tr>\n",
       "    <tr>\n",
       "      <th>1772</th>\n",
       "      <td>c_2595</td>\n",
       "      <td>2423.270000</td>\n",
       "    </tr>\n",
       "    <tr>\n",
       "      <th>7006</th>\n",
       "      <td>c_7319</td>\n",
       "      <td>2401.420000</td>\n",
       "    </tr>\n",
       "  </tbody>\n",
       "</table>\n",
       "</div>"
      ],
      "text/plain": [
       "     client_id          price\n",
       "677     c_1609  162007.340000\n",
       "4388    c_4958  144257.210000\n",
       "6337    c_6714   73220.805589\n",
       "2724    c_3454   54466.385589\n",
       "7715    c_7959    2564.250000\n",
       "7791    c_8026    2549.402795\n",
       "3870    c_4491    2540.530000\n",
       "1268    c_2140    2527.010000\n",
       "8195    c_8392    2515.980000\n",
       "7120    c_7421    2511.980000\n",
       "2513    c_3263    2493.320000\n",
       "3024    c_3725    2450.380000\n",
       "8469     c_880    2432.390000\n",
       "1772    c_2595    2423.270000\n",
       "7006    c_7319    2401.420000"
      ]
     },
     "execution_count": 10,
     "metadata": {},
     "output_type": "execute_result"
    }
   ],
   "source": [
    "client_id_dep = info_id.groupby([\"client_id\"], as_index=False)[\"price\"].sum()\n",
    "client_id_dep = client_id_dep.sort_values(by = 'price', ascending = False)\n",
    "client_id_dep.head(15)"
   ]
  },
  {
   "cell_type": "code",
   "execution_count": 11,
   "metadata": {},
   "outputs": [
    {
     "data": {
      "image/png": "[encoded data removed]",
      "text/plain": [
       "<Figure size 576x432 with 1 Axes>"
      ]
     },
     "metadata": {
      "needs_background": "light"
     },
     "output_type": "display_data"
    }
   ],
   "source": [
    "plt.figure(figsize=(8,6))\n",
    "plt.title('CA par client',fontsize=14) \n",
    "client_id_dep.boxplot(column=\"price\", vert=False,showfliers=False)\n",
    "plt.show()"
   ]
  },
  {
   "cell_type": "markdown",
   "metadata": {},
   "source": [
    "On peut identifier quatres supers clients : c_1609, c_6714, c_3454 et c_4958, que l'on peut considérer comme des outliers pour la suite de l'étude."
   ]
  },
  {
   "cell_type": "markdown",
   "metadata": {},
   "source": [
    "##### Courbe de Lorenz"
   ]
  },
  {
   "cell_type": "code",
   "execution_count": 12,
   "metadata": {},
   "outputs": [
    {
     "data": {
      "image/png": "[encoded data removed]",
      "text/plain": [
       "<Figure size 576x432 with 1 Axes>"
      ]
     },
     "metadata": {
      "needs_background": "light"
     },
     "output_type": "display_data"
    }
   ],
   "source": [
    "dep = client_id_dep['price'].values\n",
    "n = len(dep)\n",
    "lorenz = np.cumsum(np.sort(dep)) / dep.sum()\n",
    "lorenz = np.append([0],lorenz) # La courbe de Lorenz commence à 0\n",
    "\n",
    "\n",
    "plt.figure(figsize=(8, 6))\n",
    "plt.title('Lorenz - Dépenses par client',fontsize=14) \n",
    "xaxis = np.linspace(0,1,len(lorenz)) #Il y a un segment de taille n pour chaque individu, plus 1 segment supplémentaire d'ordonnée 0. Le premier segment commence à 0-1/n, et le dernier termine à 1+1/n.\n",
    "plt.plot(xaxis,lorenz,drawstyle='steps-post')\n",
    "\n",
    "plt.fill_between(xaxis,xaxis,lorenz, color='powderblue')\n",
    "plt.show()"
   ]
  },
  {
   "cell_type": "markdown",
   "metadata": {},
   "source": [
    "##### Indice de Gini"
   ]
  },
  {
   "cell_type": "code",
   "execution_count": 13,
   "metadata": {},
   "outputs": [
    {
     "data": {
      "text/plain": [
       "0.43971749063805265"
      ]
     },
     "execution_count": 13,
     "metadata": {},
     "output_type": "execute_result"
    }
   ],
   "source": [
    "AUC = (lorenz.sum() -lorenz[-1]/2 -lorenz[0]/2)/n \n",
    "S = 0.5 - AUC \n",
    "gini = 2*S\n",
    "gini"
   ]
  },
  {
   "cell_type": "markdown",
   "metadata": {},
   "source": [
    "Avec un indice de 0,43, la répartition du CA par client est déjà plus égalitaire que par article. Cependant, les 4 supers clients qui se démarquent pèsent un poids important de cette répartition inégalitaire."
   ]
  },
  {
   "cell_type": "markdown",
   "metadata": {},
   "source": [
    "#### b. Liste des clients inactifs <a class=\"anchor\" id=\"section_2_2_2\"></a>"
   ]
  },
  {
   "cell_type": "code",
   "execution_count": 14,
   "metadata": {},
   "outputs": [
    {
     "data": {
      "text/plain": [
       "c_1609    12855\n",
       "c_6714     4473\n",
       "c_3454     3275\n",
       "c_4958     2562\n",
       "c_2140      195\n",
       "          ...  \n",
       "c_2226        1\n",
       "c_4447        1\n",
       "c_8351        1\n",
       "c_862         1\n",
       "c_890         1\n",
       "Name: client_id, Length: 8621, dtype: int64"
      ]
     },
     "execution_count": 14,
     "metadata": {},
     "output_type": "execute_result"
    }
   ],
   "source": [
    "c_inactifs = pd.merge(customers,info_id, on='client_id', how='outer')\n",
    "c_inactifs['client_id'] = c_inactifs['client_id'].astype('str')\n",
    "c_inactifs = c_inactifs[~c_inactifs['client_id'].str.match('ct')]\n",
    "c_inactifs['client_id'].value_counts()"
   ]
  },
  {
   "cell_type": "code",
   "execution_count": 15,
   "metadata": {},
   "outputs": [
    {
     "data": {
      "text/html": [
       "<div>\n",
       "<style scoped>\n",
       "    .dataframe tbody tr th:only-of-type {\n",
       "        vertical-align: middle;\n",
       "    }\n",
       "\n",
       "    .dataframe tbody tr th {\n",
       "        vertical-align: top;\n",
       "    }\n",
       "\n",
       "    .dataframe thead th {\n",
       "        text-align: right;\n",
       "    }\n",
       "</style>\n",
       "<table border=\"1\" class=\"dataframe\">\n",
       "  <thead>\n",
       "    <tr style=\"text-align: right;\">\n",
       "      <th></th>\n",
       "      <th>client_id</th>\n",
       "    </tr>\n",
       "  </thead>\n",
       "  <tbody>\n",
       "    <tr>\n",
       "      <th>29516</th>\n",
       "      <td>c_8253</td>\n",
       "    </tr>\n",
       "    <tr>\n",
       "      <th>99355</th>\n",
       "      <td>c_3789</td>\n",
       "    </tr>\n",
       "    <tr>\n",
       "      <th>108189</th>\n",
       "      <td>c_4406</td>\n",
       "    </tr>\n",
       "    <tr>\n",
       "      <th>109297</th>\n",
       "      <td>c_2706</td>\n",
       "    </tr>\n",
       "    <tr>\n",
       "      <th>111919</th>\n",
       "      <td>c_3443</td>\n",
       "    </tr>\n",
       "    <tr>\n",
       "      <th>123282</th>\n",
       "      <td>c_4447</td>\n",
       "    </tr>\n",
       "    <tr>\n",
       "      <th>123536</th>\n",
       "      <td>c_3017</td>\n",
       "    </tr>\n",
       "    <tr>\n",
       "      <th>129493</th>\n",
       "      <td>c_4086</td>\n",
       "    </tr>\n",
       "    <tr>\n",
       "      <th>155402</th>\n",
       "      <td>c_6930</td>\n",
       "    </tr>\n",
       "    <tr>\n",
       "      <th>158643</th>\n",
       "      <td>c_4358</td>\n",
       "    </tr>\n",
       "    <tr>\n",
       "      <th>192278</th>\n",
       "      <td>c_8381</td>\n",
       "    </tr>\n",
       "    <tr>\n",
       "      <th>194913</th>\n",
       "      <td>c_1223</td>\n",
       "    </tr>\n",
       "    <tr>\n",
       "      <th>242572</th>\n",
       "      <td>c_6862</td>\n",
       "    </tr>\n",
       "    <tr>\n",
       "      <th>245942</th>\n",
       "      <td>c_5245</td>\n",
       "    </tr>\n",
       "    <tr>\n",
       "      <th>250814</th>\n",
       "      <td>c_5223</td>\n",
       "    </tr>\n",
       "    <tr>\n",
       "      <th>255212</th>\n",
       "      <td>c_6735</td>\n",
       "    </tr>\n",
       "    <tr>\n",
       "      <th>259512</th>\n",
       "      <td>c_862</td>\n",
       "    </tr>\n",
       "    <tr>\n",
       "      <th>268948</th>\n",
       "      <td>c_7584</td>\n",
       "    </tr>\n",
       "    <tr>\n",
       "      <th>303028</th>\n",
       "      <td>c_90</td>\n",
       "    </tr>\n",
       "    <tr>\n",
       "      <th>303772</th>\n",
       "      <td>c_587</td>\n",
       "    </tr>\n",
       "    <tr>\n",
       "      <th>333787</th>\n",
       "      <td>c_3526</td>\n",
       "    </tr>\n",
       "  </tbody>\n",
       "</table>\n",
       "</div>"
      ],
      "text/plain": [
       "       client_id\n",
       "29516     c_8253\n",
       "99355     c_3789\n",
       "108189    c_4406\n",
       "109297    c_2706\n",
       "111919    c_3443\n",
       "123282    c_4447\n",
       "123536    c_3017\n",
       "129493    c_4086\n",
       "155402    c_6930\n",
       "158643    c_4358\n",
       "192278    c_8381\n",
       "194913    c_1223\n",
       "242572    c_6862\n",
       "245942    c_5245\n",
       "250814    c_5223\n",
       "255212    c_6735\n",
       "259512     c_862\n",
       "268948    c_7584\n",
       "303028      c_90\n",
       "303772     c_587\n",
       "333787    c_3526"
      ]
     },
     "execution_count": 15,
     "metadata": {},
     "output_type": "execute_result"
    }
   ],
   "source": [
    "NaN_client = c_inactifs[c_inactifs['date'].isna()]\n",
    "NaN_client.loc[:,['client_id']]"
   ]
  },
  {
   "cell_type": "markdown",
   "metadata": {},
   "source": [
    "Voici la liste des tous les clients qui n'ont effectué aucun achat durant la période de réference sur les 8621 clients repertiorés dans la base de données."
   ]
  },
  {
   "cell_type": "markdown",
   "metadata": {},
   "source": [
    "#### c. Suppression des clients outliers <a class=\"anchor\" id=\"section_2_2_3\"></a>"
   ]
  },
  {
   "cell_type": "code",
   "execution_count": 16,
   "metadata": {},
   "outputs": [
    {
     "data": {
      "text/html": [
       "<div>\n",
       "<style scoped>\n",
       "    .dataframe tbody tr th:only-of-type {\n",
       "        vertical-align: middle;\n",
       "    }\n",
       "\n",
       "    .dataframe tbody tr th {\n",
       "        vertical-align: top;\n",
       "    }\n",
       "\n",
       "    .dataframe thead th {\n",
       "        text-align: right;\n",
       "    }\n",
       "</style>\n",
       "<table border=\"1\" class=\"dataframe\">\n",
       "  <thead>\n",
       "    <tr style=\"text-align: right;\">\n",
       "      <th></th>\n",
       "      <th>id_prod</th>\n",
       "      <th>price</th>\n",
       "      <th>categ</th>\n",
       "      <th>client_id</th>\n",
       "      <th>sex</th>\n",
       "      <th>birth</th>\n",
       "      <th>date</th>\n",
       "      <th>session_id</th>\n",
       "      <th>date_frmt</th>\n",
       "      <th>age</th>\n",
       "      <th>hour</th>\n",
       "      <th>month</th>\n",
       "      <th>jour</th>\n",
       "      <th>day</th>\n",
       "      <th>greg</th>\n",
       "    </tr>\n",
       "  </thead>\n",
       "  <tbody>\n",
       "    <tr>\n",
       "      <th>0</th>\n",
       "      <td>0_1870</td>\n",
       "      <td>9.06</td>\n",
       "      <td>0</td>\n",
       "      <td>c_5196</td>\n",
       "      <td>m</td>\n",
       "      <td>1976.0</td>\n",
       "      <td>2021-03-01</td>\n",
       "      <td>s_393</td>\n",
       "      <td>2021-03-01 19:18:06.898158</td>\n",
       "      <td>45.0</td>\n",
       "      <td>19:18</td>\n",
       "      <td>March</td>\n",
       "      <td>Monday</td>\n",
       "      <td>1</td>\n",
       "      <td>737850</td>\n",
       "    </tr>\n",
       "    <tr>\n",
       "      <th>1</th>\n",
       "      <td>0_1338</td>\n",
       "      <td>9.28</td>\n",
       "      <td>0</td>\n",
       "      <td>c_6990</td>\n",
       "      <td>f</td>\n",
       "      <td>1986.0</td>\n",
       "      <td>2021-03-01</td>\n",
       "      <td>s_319</td>\n",
       "      <td>2021-03-01 15:14:28.717079</td>\n",
       "      <td>35.0</td>\n",
       "      <td>15:14</td>\n",
       "      <td>March</td>\n",
       "      <td>Monday</td>\n",
       "      <td>1</td>\n",
       "      <td>737850</td>\n",
       "    </tr>\n",
       "    <tr>\n",
       "      <th>2</th>\n",
       "      <td>0_1142</td>\n",
       "      <td>3.42</td>\n",
       "      <td>0</td>\n",
       "      <td>c_6983</td>\n",
       "      <td>m</td>\n",
       "      <td>1989.0</td>\n",
       "      <td>2021-03-01</td>\n",
       "      <td>s_137</td>\n",
       "      <td>2021-03-01 06:13:35.623382</td>\n",
       "      <td>32.0</td>\n",
       "      <td>06:13</td>\n",
       "      <td>March</td>\n",
       "      <td>Monday</td>\n",
       "      <td>1</td>\n",
       "      <td>737850</td>\n",
       "    </tr>\n",
       "    <tr>\n",
       "      <th>3</th>\n",
       "      <td>0_560</td>\n",
       "      <td>4.53</td>\n",
       "      <td>0</td>\n",
       "      <td>c_4103</td>\n",
       "      <td>f</td>\n",
       "      <td>1980.0</td>\n",
       "      <td>2021-03-01</td>\n",
       "      <td>s_233</td>\n",
       "      <td>2021-03-01 11:25:45.668969</td>\n",
       "      <td>41.0</td>\n",
       "      <td>11:25</td>\n",
       "      <td>March</td>\n",
       "      <td>Monday</td>\n",
       "      <td>1</td>\n",
       "      <td>737850</td>\n",
       "    </tr>\n",
       "    <tr>\n",
       "      <th>4</th>\n",
       "      <td>0_1029</td>\n",
       "      <td>7.99</td>\n",
       "      <td>0</td>\n",
       "      <td>c_7246</td>\n",
       "      <td>m</td>\n",
       "      <td>1976.0</td>\n",
       "      <td>2021-03-01</td>\n",
       "      <td>s_116</td>\n",
       "      <td>2021-03-01 05:26:21.487685</td>\n",
       "      <td>45.0</td>\n",
       "      <td>05:26</td>\n",
       "      <td>March</td>\n",
       "      <td>Monday</td>\n",
       "      <td>1</td>\n",
       "      <td>737850</td>\n",
       "    </tr>\n",
       "    <tr>\n",
       "      <th>...</th>\n",
       "      <td>...</td>\n",
       "      <td>...</td>\n",
       "      <td>...</td>\n",
       "      <td>...</td>\n",
       "      <td>...</td>\n",
       "      <td>...</td>\n",
       "      <td>...</td>\n",
       "      <td>...</td>\n",
       "      <td>...</td>\n",
       "      <td>...</td>\n",
       "      <td>...</td>\n",
       "      <td>...</td>\n",
       "      <td>...</td>\n",
       "      <td>...</td>\n",
       "      <td>...</td>\n",
       "    </tr>\n",
       "    <tr>\n",
       "      <th>336811</th>\n",
       "      <td>1_296</td>\n",
       "      <td>24.67</td>\n",
       "      <td>1</td>\n",
       "      <td>c_1092</td>\n",
       "      <td>f</td>\n",
       "      <td>1972.0</td>\n",
       "      <td>2022-02-28</td>\n",
       "      <td>s_171938</td>\n",
       "      <td>2022-02-28 00:32:05.527835</td>\n",
       "      <td>50.0</td>\n",
       "      <td>00:32</td>\n",
       "      <td>February</td>\n",
       "      <td>Monday</td>\n",
       "      <td>28</td>\n",
       "      <td>738214</td>\n",
       "    </tr>\n",
       "    <tr>\n",
       "      <th>336812</th>\n",
       "      <td>1_448</td>\n",
       "      <td>13.79</td>\n",
       "      <td>1</td>\n",
       "      <td>c_359</td>\n",
       "      <td>f</td>\n",
       "      <td>1988.0</td>\n",
       "      <td>2022-02-28</td>\n",
       "      <td>s_172385</td>\n",
       "      <td>2022-02-28 22:16:21.571957</td>\n",
       "      <td>34.0</td>\n",
       "      <td>22:16</td>\n",
       "      <td>February</td>\n",
       "      <td>Monday</td>\n",
       "      <td>28</td>\n",
       "      <td>738214</td>\n",
       "    </tr>\n",
       "    <tr>\n",
       "      <th>336813</th>\n",
       "      <td>1_388</td>\n",
       "      <td>16.70</td>\n",
       "      <td>1</td>\n",
       "      <td>c_6878</td>\n",
       "      <td>m</td>\n",
       "      <td>1950.0</td>\n",
       "      <td>2022-02-28</td>\n",
       "      <td>s_172405</td>\n",
       "      <td>2022-02-28 22:52:38.395706</td>\n",
       "      <td>72.0</td>\n",
       "      <td>22:52</td>\n",
       "      <td>February</td>\n",
       "      <td>Monday</td>\n",
       "      <td>28</td>\n",
       "      <td>738214</td>\n",
       "    </tr>\n",
       "    <tr>\n",
       "      <th>336814</th>\n",
       "      <td>0_1400</td>\n",
       "      <td>5.15</td>\n",
       "      <td>0</td>\n",
       "      <td>c_8294</td>\n",
       "      <td>f</td>\n",
       "      <td>1966.0</td>\n",
       "      <td>2022-02-28</td>\n",
       "      <td>s_172037</td>\n",
       "      <td>2022-02-28 05:23:22.894171</td>\n",
       "      <td>56.0</td>\n",
       "      <td>05:23</td>\n",
       "      <td>February</td>\n",
       "      <td>Monday</td>\n",
       "      <td>28</td>\n",
       "      <td>738214</td>\n",
       "    </tr>\n",
       "    <tr>\n",
       "      <th>336815</th>\n",
       "      <td>0_1499</td>\n",
       "      <td>11.99</td>\n",
       "      <td>0</td>\n",
       "      <td>c_4784</td>\n",
       "      <td>f</td>\n",
       "      <td>1981.0</td>\n",
       "      <td>2022-02-28</td>\n",
       "      <td>s_172365</td>\n",
       "      <td>2022-02-28 21:04:01.765028</td>\n",
       "      <td>41.0</td>\n",
       "      <td>21:04</td>\n",
       "      <td>February</td>\n",
       "      <td>Monday</td>\n",
       "      <td>28</td>\n",
       "      <td>738214</td>\n",
       "    </tr>\n",
       "  </tbody>\n",
       "</table>\n",
       "<p>313651 rows × 15 columns</p>\n",
       "</div>"
      ],
      "text/plain": [
       "       id_prod  price  categ client_id sex   birth       date session_id  \\\n",
       "0       0_1870   9.06      0    c_5196   m  1976.0 2021-03-01      s_393   \n",
       "1       0_1338   9.28      0    c_6990   f  1986.0 2021-03-01      s_319   \n",
       "2       0_1142   3.42      0    c_6983   m  1989.0 2021-03-01      s_137   \n",
       "3        0_560   4.53      0    c_4103   f  1980.0 2021-03-01      s_233   \n",
       "4       0_1029   7.99      0    c_7246   m  1976.0 2021-03-01      s_116   \n",
       "...        ...    ...    ...       ...  ..     ...        ...        ...   \n",
       "336811   1_296  24.67      1    c_1092   f  1972.0 2022-02-28   s_171938   \n",
       "336812   1_448  13.79      1     c_359   f  1988.0 2022-02-28   s_172385   \n",
       "336813   1_388  16.70      1    c_6878   m  1950.0 2022-02-28   s_172405   \n",
       "336814  0_1400   5.15      0    c_8294   f  1966.0 2022-02-28   s_172037   \n",
       "336815  0_1499  11.99      0    c_4784   f  1981.0 2022-02-28   s_172365   \n",
       "\n",
       "                         date_frmt   age   hour     month    jour  day    greg  \n",
       "0       2021-03-01 19:18:06.898158  45.0  19:18     March  Monday    1  737850  \n",
       "1       2021-03-01 15:14:28.717079  35.0  15:14     March  Monday    1  737850  \n",
       "2       2021-03-01 06:13:35.623382  32.0  06:13     March  Monday    1  737850  \n",
       "3       2021-03-01 11:25:45.668969  41.0  11:25     March  Monday    1  737850  \n",
       "4       2021-03-01 05:26:21.487685  45.0  05:26     March  Monday    1  737850  \n",
       "...                            ...   ...    ...       ...     ...  ...     ...  \n",
       "336811  2022-02-28 00:32:05.527835  50.0  00:32  February  Monday   28  738214  \n",
       "336812  2022-02-28 22:16:21.571957  34.0  22:16  February  Monday   28  738214  \n",
       "336813  2022-02-28 22:52:38.395706  72.0  22:52  February  Monday   28  738214  \n",
       "336814  2022-02-28 05:23:22.894171  56.0  05:23  February  Monday   28  738214  \n",
       "336815  2022-02-28 21:04:01.765028  41.0  21:04  February  Monday   28  738214  \n",
       "\n",
       "[313651 rows x 15 columns]"
      ]
     },
     "execution_count": 16,
     "metadata": {},
     "output_type": "execute_result"
    }
   ],
   "source": [
    "info_id = info_id.loc[~info_id[\"client_id\"].isin(['c_1609','c_6714','c_3454','c_4958'])].copy(deep=False)\n",
    "info_id"
   ]
  },
  {
   "cell_type": "markdown",
   "metadata": {},
   "source": [
    "#### d. Indice de gini après la suppression des clients outliers <a class=\"anchor\" id=\"section_2_2_4\"></a> "
   ]
  },
  {
   "cell_type": "code",
   "execution_count": 17,
   "metadata": {},
   "outputs": [
    {
     "data": {
      "text/html": [
       "<div>\n",
       "<style scoped>\n",
       "    .dataframe tbody tr th:only-of-type {\n",
       "        vertical-align: middle;\n",
       "    }\n",
       "\n",
       "    .dataframe tbody tr th {\n",
       "        vertical-align: top;\n",
       "    }\n",
       "\n",
       "    .dataframe thead th {\n",
       "        text-align: right;\n",
       "    }\n",
       "</style>\n",
       "<table border=\"1\" class=\"dataframe\">\n",
       "  <thead>\n",
       "    <tr style=\"text-align: right;\">\n",
       "      <th></th>\n",
       "      <th>client_id</th>\n",
       "      <th>price</th>\n",
       "    </tr>\n",
       "  </thead>\n",
       "  <tbody>\n",
       "    <tr>\n",
       "      <th>7711</th>\n",
       "      <td>c_7959</td>\n",
       "      <td>2564.250000</td>\n",
       "    </tr>\n",
       "    <tr>\n",
       "      <th>7787</th>\n",
       "      <td>c_8026</td>\n",
       "      <td>2549.402795</td>\n",
       "    </tr>\n",
       "    <tr>\n",
       "      <th>3868</th>\n",
       "      <td>c_4491</td>\n",
       "      <td>2540.530000</td>\n",
       "    </tr>\n",
       "    <tr>\n",
       "      <th>1267</th>\n",
       "      <td>c_2140</td>\n",
       "      <td>2527.010000</td>\n",
       "    </tr>\n",
       "    <tr>\n",
       "      <th>8191</th>\n",
       "      <td>c_8392</td>\n",
       "      <td>2515.980000</td>\n",
       "    </tr>\n",
       "    <tr>\n",
       "      <th>...</th>\n",
       "      <td>...</td>\n",
       "      <td>...</td>\n",
       "    </tr>\n",
       "    <tr>\n",
       "      <th>8147</th>\n",
       "      <td>c_8351</td>\n",
       "      <td>6.310000</td>\n",
       "    </tr>\n",
       "    <tr>\n",
       "      <th>8476</th>\n",
       "      <td>c_890</td>\n",
       "      <td>6.080000</td>\n",
       "    </tr>\n",
       "    <tr>\n",
       "      <th>749</th>\n",
       "      <td>c_1675</td>\n",
       "      <td>5.570000</td>\n",
       "    </tr>\n",
       "    <tr>\n",
       "      <th>7885</th>\n",
       "      <td>c_8114</td>\n",
       "      <td>4.990000</td>\n",
       "    </tr>\n",
       "    <tr>\n",
       "      <th>7914</th>\n",
       "      <td>c_8140</td>\n",
       "      <td>4.150000</td>\n",
       "    </tr>\n",
       "  </tbody>\n",
       "</table>\n",
       "<p>8596 rows × 2 columns</p>\n",
       "</div>"
      ],
      "text/plain": [
       "     client_id        price\n",
       "7711    c_7959  2564.250000\n",
       "7787    c_8026  2549.402795\n",
       "3868    c_4491  2540.530000\n",
       "1267    c_2140  2527.010000\n",
       "8191    c_8392  2515.980000\n",
       "...        ...          ...\n",
       "8147    c_8351     6.310000\n",
       "8476     c_890     6.080000\n",
       "749     c_1675     5.570000\n",
       "7885    c_8114     4.990000\n",
       "7914    c_8140     4.150000\n",
       "\n",
       "[8596 rows x 2 columns]"
      ]
     },
     "execution_count": 17,
     "metadata": {},
     "output_type": "execute_result"
    }
   ],
   "source": [
    "client_id_dep = info_id.groupby([\"client_id\"], as_index=False)[\"price\"].sum()\n",
    "client_id_dep = client_id_dep.sort_values(by = 'price', ascending = False)\n",
    "client_id_dep"
   ]
  },
  {
   "cell_type": "code",
   "execution_count": 18,
   "metadata": {},
   "outputs": [
    {
     "data": {
      "text/plain": [
       "0.39506676837595067"
      ]
     },
     "execution_count": 18,
     "metadata": {},
     "output_type": "execute_result"
    }
   ],
   "source": [
    "dep = client_id_dep['price'].values\n",
    "n = len(dep)\n",
    "lorenz = np.cumsum(np.sort(dep)) / dep.sum()\n",
    "lorenz = np.append([0],lorenz) # La courbe de Lorenz commence à 0\n",
    "AUC = (lorenz.sum() -lorenz[-1]/2 -lorenz[0]/2)/n \n",
    "S = 0.5 - AUC \n",
    "gini = 2*S\n",
    "gini"
   ]
  },
  {
   "cell_type": "markdown",
   "metadata": {},
   "source": [
    "L'indice de gini baisse considérablement après avoir supprimé les clients outliers. La suite de l'étude sera plus cohérente sans ces clients."
   ]
  },
  {
   "cell_type": "markdown",
   "metadata": {},
   "source": [
    "### 3) Analyse des prix <a class=\"anchor\" id=\"section_2_3\"></a>"
   ]
  },
  {
   "cell_type": "markdown",
   "metadata": {},
   "source": [
    "#### a. Dépenses par article <a class=\"anchor\" id=\"section_2_3_1\"></a>"
   ]
  },
  {
   "cell_type": "code",
   "execution_count": 19,
   "metadata": {},
   "outputs": [
    {
     "name": "stdout",
     "output_type": "stream",
     "text": [
      "moy:\n",
      " 17.101282975951108\n",
      "med:\n",
      " 13.82\n",
      "mod:\n",
      " 0    15.99\n",
      "dtype: float64\n",
      "var:\n",
      " 309.5593146336975\n",
      "ect:\n",
      " 17.594297787456522\n",
      "skw:\n",
      " 5.541912808275833\n",
      "kur:\n",
      " 46.66990104687682\n"
     ]
    },
    {
     "data": {
      "image/png": "[encoded data removed]",
      "text/plain": [
       "<Figure size 576x432 with 1 Axes>"
      ]
     },
     "metadata": {
      "needs_background": "light"
     },
     "output_type": "display_data"
    }
   ],
   "source": [
    "print(\"moy:\\n\",info_id['price'].mean())\n",
    "print(\"med:\\n\",info_id['price'].median())\n",
    "print(\"mod:\\n\",info_id['price'].mode())\n",
    "print(\"var:\\n\",info_id['price'].var(ddof=0))\n",
    "print(\"ect:\\n\",info_id['price'].std(ddof=0))\n",
    "print(\"skw:\\n\",info_id['price'].skew())\n",
    "print(\"kur:\\n\",info_id['price'].kurtosis())\n",
    "plt.figure(figsize=(8, 6))\n",
    "plt.title('Quantité de livres vendus selon le prix',fontsize=14) \n",
    "info_id[\"price\"].hist() \n",
    "plt.show()"
   ]
  },
  {
   "cell_type": "markdown",
   "metadata": {},
   "source": [
    "17,10€ est la moyenne des prix des livres les plus fréquement achetés  \n",
    "13.82€ est le prix médian des livres achetés  \n",
    "15,99€ est le prix des livres les plus fréquement achetés  \n",
    "309.5€ est variance empirique c'est à dire un indicateur de dispersion des valeurs, elle est d’autant plus grande que les valeurs sont étalées  \n",
    "17.59€ est l'écart-type empirique, c'est à dire la racine carrée de la variance empirique  \n",
    "5,5 est le Skewness empirique, >0 alors la distribution est étalée à droite  \n",
    "46,66 est le Kurtosis empirique >0, alors elle est moins aplatie que la distribution normale : les observations sont plus concentrées"
   ]
  },
  {
   "cell_type": "markdown",
   "metadata": {},
   "source": [
    "#### b. Dépenses par article et par catégorie <a class=\"anchor\" id=\"section_2_3_2\"></a>"
   ]
  },
  {
   "cell_type": "code",
   "execution_count": 20,
   "metadata": {},
   "outputs": [
    {
     "name": "stdout",
     "output_type": "stream",
     "text": [
      "--------------------\n",
      "0\n",
      "moy:\n",
      " 10.64560125296922\n",
      "med:\n",
      " 9.99\n",
      "mod:\n",
      " 0    4.99\n",
      "dtype: float64\n",
      "var:\n",
      " 24.27481548779922\n",
      "ect:\n",
      " 4.92694788766831\n",
      "skw:\n",
      " 0.42507114317285255\n",
      "kur:\n",
      " -0.3780720553451289\n"
     ]
    },
    {
     "data": {
      "image/png": "[encoded data removed]",
      "text/plain": [
       "<Figure size 576x432 with 1 Axes>"
      ]
     },
     "metadata": {
      "needs_background": "light"
     },
     "output_type": "display_data"
    },
    {
     "name": "stdout",
     "output_type": "stream",
     "text": [
      "--------------------\n",
      "1\n",
      "moy:\n",
      " 20.47829807551574\n",
      "med:\n",
      " 19.08\n",
      "mod:\n",
      " 0    15.99\n",
      "dtype: float64\n",
      "var:\n",
      " 57.333753312950584\n",
      "ect:\n",
      " 7.571905527207176\n",
      "skw:\n",
      " 1.7168805164809877\n",
      "kur:\n",
      " 8.04710972803425\n"
     ]
    },
    {
     "data": {
      "image/png": "[encoded data removed]",
      "text/plain": [
       "<Figure size 576x432 with 1 Axes>"
      ]
     },
     "metadata": {
      "needs_background": "light"
     },
     "output_type": "display_data"
    },
    {
     "name": "stdout",
     "output_type": "stream",
     "text": [
      "--------------------\n",
      "2\n",
      "moy:\n",
      " 75.11313848692208\n",
      "med:\n",
      " 62.54\n",
      "mod:\n",
      " 0    68.99\n",
      "dtype: float64\n",
      "var:\n",
      " 1531.8809728803396\n",
      "ect:\n",
      " 39.139251051602145\n",
      "skw:\n",
      " 2.3130531091776168\n",
      "kur:\n",
      " 5.4759231387312095\n"
     ]
    },
    {
     "data": {
      "image/png": "[encoded data removed]",
      "text/plain": [
       "<Figure size 576x432 with 1 Axes>"
      ]
     },
     "metadata": {
      "needs_background": "light"
     },
     "output_type": "display_data"
    }
   ],
   "source": [
    "for cat in info_id[\"categ\"].unique():\n",
    "    subset = info_id[info_id.categ == cat] \n",
    "    print(\"-\"*20)\n",
    "    print(cat)\n",
    "    print(\"moy:\\n\",subset['price'].mean())\n",
    "    print(\"med:\\n\",subset['price'].median())\n",
    "    print(\"mod:\\n\",subset['price'].mode())\n",
    "    print(\"var:\\n\",subset['price'].var(ddof=0))\n",
    "    print(\"ect:\\n\",subset['price'].std(ddof=0))\n",
    "    print(\"skw:\\n\",subset['price'].skew())\n",
    "    print(\"kur:\\n\",subset['price'].kurtosis())\n",
    "    plt.figure(figsize=(8, 6))\n",
    "    plt.title('Quantité de livres vendus selon le prix par catégorie',fontsize=14) \n",
    "    subset[\"price\"].hist() \n",
    "    plt.show()"
   ]
  },
  {
   "cell_type": "code",
   "execution_count": 21,
   "metadata": {},
   "outputs": [
    {
     "data": {
      "image/png": "[encoded data removed]",
      "text/plain": [
       "<Figure size 576x432 with 1 Axes>"
      ]
     },
     "metadata": {
      "needs_background": "light"
     },
     "output_type": "display_data"
    }
   ],
   "source": [
    "X = \"categ\" # qualitative\n",
    "Y = \"price\" # quantitative\n",
    "\n",
    "modalites = info_id[X].unique()\n",
    "groupes = []\n",
    "for m in modalites:\n",
    "    groupes.append(info_id[info_id[X]==m][Y])\n",
    "\n",
    "\n",
    "medianprops = {'color':\"DarkBlue\"}\n",
    "meanprops = {'marker':'o', 'markeredgecolor':'Green',\n",
    "            'markerfacecolor':'coral'}\n",
    "plt.figure(figsize=(8, 6))\n",
    "plt.title('Prix selon catégorie',fontsize=14) \n",
    "plt.boxplot(groupes, labels=modalites, showfliers=False, medianprops=medianprops, \n",
    "            vert=True, patch_artist=True, showmeans=True, meanprops=meanprops)\n",
    "plt.show()"
   ]
  },
  {
   "cell_type": "code",
   "execution_count": 22,
   "metadata": {},
   "outputs": [
    {
     "data": {
      "text/plain": [
       "0.6419914356237635"
      ]
     },
     "execution_count": 22,
     "metadata": {},
     "output_type": "execute_result"
    }
   ],
   "source": [
    "X = \"categ\" # qualitative\n",
    "Y = \"price\" # quantitative\n",
    "\n",
    "def eta_squared(x,y):\n",
    "    moyenne_y = y.mean()\n",
    "    classes = []\n",
    "    for classe in x.unique():\n",
    "        yi_classe = y[x==classe]\n",
    "        classes.append({'ni': len(yi_classe),\n",
    "                        'moyenne_classe': yi_classe.mean()})\n",
    "    SCT = sum([(yj-moyenne_y)**2 for yj in y])\n",
    "    SCE = sum([c['ni']*(c['moyenne_classe']-moyenne_y)**2 for c in classes])\n",
    "    return SCE/SCT\n",
    "    \n",
    "eta_squared(info_id[X],info_id[Y])"
   ]
  },
  {
   "cell_type": "markdown",
   "metadata": {},
   "source": [
    "Le calcul d'Eta carré étant très proche de 1, nous pouvons étalir une correlation entre la variable catégorie et la variable prix. Nous le constatons également grace aux boites à moustaches qui prennent toutes les 3 des valeurs différentes.\n"
   ]
  },
  {
   "cell_type": "markdown",
   "metadata": {},
   "source": [
    "### 4) Analyse des ventes selon le sexe <a class=\"anchor\" id=\"section_2_4\"></a>"
   ]
  },
  {
   "cell_type": "markdown",
   "metadata": {},
   "source": [
    "#### a. Répartition homme/femme <a class=\"anchor\" id=\"section_2_4_1\"></a>"
   ]
  },
  {
   "cell_type": "code",
   "execution_count": 23,
   "metadata": {},
   "outputs": [
    {
     "data": {
      "text/plain": [
       "f    163102\n",
       "m    150549\n",
       "Name: sex, dtype: int64"
      ]
     },
     "execution_count": 23,
     "metadata": {},
     "output_type": "execute_result"
    }
   ],
   "source": [
    "info_id['sex'].value_counts()"
   ]
  },
  {
   "cell_type": "code",
   "execution_count": 24,
   "metadata": {},
   "outputs": [
    {
     "data": {
      "text/plain": [
       "52.0011095134401"
      ]
     },
     "execution_count": 24,
     "metadata": {},
     "output_type": "execute_result"
    }
   ],
   "source": [
    "Ratio_fh = 163102 / (150549 + 163102) * 100\n",
    "Ratio_fh"
   ]
  },
  {
   "cell_type": "markdown",
   "metadata": {},
   "source": [
    "52% des clients sont des femmes"
   ]
  },
  {
   "cell_type": "markdown",
   "metadata": {},
   "source": [
    "#### b. Répartition des achats selon le sexe et la catégorie <a class=\"anchor\" id=\"section_2_4_2\"></a>"
   ]
  },
  {
   "cell_type": "code",
   "execution_count": 25,
   "metadata": {},
   "outputs": [
    {
     "name": "stdout",
     "output_type": "stream",
     "text": [
      "--------------------\n",
      "m\n",
      "0    94064\n",
      "1    48851\n",
      "2     7634\n",
      "Name: categ, dtype: int64\n"
     ]
    },
    {
     "data": {
      "image/png": "[encoded data removed]",
      "text/plain": [
       "<Figure size 576x432 with 1 Axes>"
      ]
     },
     "metadata": {
      "needs_background": "light"
     },
     "output_type": "display_data"
    },
    {
     "name": "stdout",
     "output_type": "stream",
     "text": [
      "--------------------\n",
      "f\n",
      "0    101206\n",
      "1     53774\n",
      "2      8122\n",
      "Name: categ, dtype: int64\n"
     ]
    },
    {
     "data": {
      "image/png": "[encoded data removed]",
      "text/plain": [
       "<Figure size 576x432 with 1 Axes>"
      ]
     },
     "metadata": {
      "needs_background": "light"
     },
     "output_type": "display_data"
    }
   ],
   "source": [
    "for cat in info_id[\"sex\"].unique():\n",
    "    plt.figure(figsize=(8, 6))\n",
    "    subset = info_id[info_id.sex == cat] \n",
    "    print(\"-\"*20)\n",
    "    print(cat)\n",
    "    print(subset[\"categ\"].value_counts())\n",
    "    subset[\"categ\"].hist() \n",
    "    plt.title('Achats selon le sexe et la catégorie',fontsize=14) \n",
    "    plt.show()"
   ]
  },
  {
   "cell_type": "code",
   "execution_count": 26,
   "metadata": {},
   "outputs": [
    {
     "data": {
      "text/html": [
       "<div>\n",
       "<style scoped>\n",
       "    .dataframe tbody tr th:only-of-type {\n",
       "        vertical-align: middle;\n",
       "    }\n",
       "\n",
       "    .dataframe tbody tr th {\n",
       "        vertical-align: top;\n",
       "    }\n",
       "\n",
       "    .dataframe thead th {\n",
       "        text-align: right;\n",
       "    }\n",
       "</style>\n",
       "<table border=\"1\" class=\"dataframe\">\n",
       "  <thead>\n",
       "    <tr style=\"text-align: right;\">\n",
       "      <th></th>\n",
       "      <th>M</th>\n",
       "      <th>F</th>\n",
       "      <th>M %</th>\n",
       "      <th>F %</th>\n",
       "    </tr>\n",
       "  </thead>\n",
       "  <tbody>\n",
       "    <tr>\n",
       "      <th>0</th>\n",
       "      <td>94064</td>\n",
       "      <td>101206</td>\n",
       "      <td>62.480654</td>\n",
       "      <td>62.050741</td>\n",
       "    </tr>\n",
       "    <tr>\n",
       "      <th>1</th>\n",
       "      <td>48851</td>\n",
       "      <td>53774</td>\n",
       "      <td>32.448572</td>\n",
       "      <td>32.969553</td>\n",
       "    </tr>\n",
       "    <tr>\n",
       "      <th>2</th>\n",
       "      <td>7634</td>\n",
       "      <td>8122</td>\n",
       "      <td>5.070774</td>\n",
       "      <td>4.979706</td>\n",
       "    </tr>\n",
       "  </tbody>\n",
       "</table>\n",
       "</div>"
      ],
      "text/plain": [
       "       M       F        M %        F %\n",
       "0  94064  101206  62.480654  62.050741\n",
       "1  48851   53774  32.448572  32.969553\n",
       "2   7634    8122   5.070774   4.979706"
      ]
     },
     "execution_count": 26,
     "metadata": {},
     "output_type": "execute_result"
    }
   ],
   "source": [
    "achat_sex_categ = pd.DataFrame({'M': [94064, 48851, 7634], 'F': [101206, 53774, 8122]},\n",
    "                      index = [0, 1, 2])\n",
    "achat_sex_categ['M %'] = achat_sex_categ['M'] / 150549 *100\n",
    "achat_sex_categ['F %'] = achat_sex_categ['F'] / 163102 *100\n",
    "achat_sex_categ"
   ]
  },
  {
   "cell_type": "markdown",
   "metadata": {},
   "source": [
    "#### c. Prix du panier moyen selon sexe <a class=\"anchor\" id=\"section_2_4_3\"></a>"
   ]
  },
  {
   "cell_type": "code",
   "execution_count": 27,
   "metadata": {},
   "outputs": [
    {
     "data": {
      "text/html": [
       "<div>\n",
       "<style scoped>\n",
       "    .dataframe tbody tr th:only-of-type {\n",
       "        vertical-align: middle;\n",
       "    }\n",
       "\n",
       "    .dataframe tbody tr th {\n",
       "        vertical-align: top;\n",
       "    }\n",
       "\n",
       "    .dataframe thead th {\n",
       "        text-align: right;\n",
       "    }\n",
       "</style>\n",
       "<table border=\"1\" class=\"dataframe\">\n",
       "  <thead>\n",
       "    <tr style=\"text-align: right;\">\n",
       "      <th></th>\n",
       "      <th>session_id</th>\n",
       "      <th>price</th>\n",
       "      <th>sex</th>\n",
       "    </tr>\n",
       "  </thead>\n",
       "  <tbody>\n",
       "    <tr>\n",
       "      <th>0</th>\n",
       "      <td>s_1</td>\n",
       "      <td>11.99</td>\n",
       "      <td>f</td>\n",
       "    </tr>\n",
       "    <tr>\n",
       "      <th>1</th>\n",
       "      <td>s_10</td>\n",
       "      <td>26.99</td>\n",
       "      <td>f</td>\n",
       "    </tr>\n",
       "    <tr>\n",
       "      <th>2</th>\n",
       "      <td>s_100</td>\n",
       "      <td>33.72</td>\n",
       "      <td>f</td>\n",
       "    </tr>\n",
       "    <tr>\n",
       "      <th>4</th>\n",
       "      <td>s_1000</td>\n",
       "      <td>39.22</td>\n",
       "      <td>m</td>\n",
       "    </tr>\n",
       "    <tr>\n",
       "      <th>8</th>\n",
       "      <td>s_10000</td>\n",
       "      <td>41.49</td>\n",
       "      <td>f</td>\n",
       "    </tr>\n",
       "    <tr>\n",
       "      <th>...</th>\n",
       "      <td>...</td>\n",
       "      <td>...</td>\n",
       "      <td>...</td>\n",
       "    </tr>\n",
       "    <tr>\n",
       "      <th>313639</th>\n",
       "      <td>s_99994</td>\n",
       "      <td>28.92</td>\n",
       "      <td>m</td>\n",
       "    </tr>\n",
       "    <tr>\n",
       "      <th>313642</th>\n",
       "      <td>s_99995</td>\n",
       "      <td>19.84</td>\n",
       "      <td>f</td>\n",
       "    </tr>\n",
       "    <tr>\n",
       "      <th>313643</th>\n",
       "      <td>s_99996</td>\n",
       "      <td>56.27</td>\n",
       "      <td>f</td>\n",
       "    </tr>\n",
       "    <tr>\n",
       "      <th>313647</th>\n",
       "      <td>s_99997</td>\n",
       "      <td>6.99</td>\n",
       "      <td>f</td>\n",
       "    </tr>\n",
       "    <tr>\n",
       "      <th>313648</th>\n",
       "      <td>s_99998</td>\n",
       "      <td>35.11</td>\n",
       "      <td>f</td>\n",
       "    </tr>\n",
       "  </tbody>\n",
       "</table>\n",
       "<p>157808 rows × 3 columns</p>\n",
       "</div>"
      ],
      "text/plain": [
       "       session_id  price sex\n",
       "0             s_1  11.99   f\n",
       "1            s_10  26.99   f\n",
       "2           s_100  33.72   f\n",
       "4          s_1000  39.22   m\n",
       "8         s_10000  41.49   f\n",
       "...           ...    ...  ..\n",
       "313639    s_99994  28.92   m\n",
       "313642    s_99995  19.84   f\n",
       "313643    s_99996  56.27   f\n",
       "313647    s_99997   6.99   f\n",
       "313648    s_99998  35.11   f\n",
       "\n",
       "[157808 rows x 3 columns]"
      ]
     },
     "execution_count": 27,
     "metadata": {},
     "output_type": "execute_result"
    }
   ],
   "source": [
    "panier_moyen = info_id.groupby([\"session_id\"], as_index=False)[\"price\"].sum()\n",
    "panier_moyen_sexe = info_id.loc[:,[\"session_id\",'sex']]\n",
    "panier_moyen_sexe = pd.merge(panier_moyen, panier_moyen_sexe, on='session_id', how='right')\n",
    "panier_moyen_sexe = panier_moyen_sexe.drop_duplicates(['session_id'])\n",
    "panier_moyen_sexe"
   ]
  },
  {
   "cell_type": "code",
   "execution_count": 28,
   "metadata": {},
   "outputs": [
    {
     "data": {
      "image/png": "[encoded data removed]",
      "text/plain": [
       "<Figure size 576x432 with 1 Axes>"
      ]
     },
     "metadata": {
      "needs_background": "light"
     },
     "output_type": "display_data"
    }
   ],
   "source": [
    "X = \"sex\" # qualitative\n",
    "Y = \"price\" # quantitative\n",
    "\n",
    "modalites = panier_moyen_sexe[X].unique()\n",
    "groupes = []\n",
    "for m in modalites:\n",
    "    groupes.append(panier_moyen_sexe[panier_moyen_sexe[X]==m][Y])\n",
    "\n",
    "\n",
    "medianprops = {'color':\"DarkBlue\"}\n",
    "meanprops = {'marker':'o', 'markeredgecolor':'Green',\n",
    "            'markerfacecolor':'coral'}\n",
    "plt.figure(figsize=(8, 6))\n",
    "plt.title('Montant panier moyen selon sexe',fontsize=14) \n",
    "plt.boxplot(groupes, labels=modalites, showfliers=False, medianprops=medianprops, \n",
    "            vert=True, patch_artist=True, showmeans=True, meanprops=meanprops)\n",
    "plt.show()"
   ]
  },
  {
   "cell_type": "code",
   "execution_count": 29,
   "metadata": {},
   "outputs": [
    {
     "data": {
      "text/plain": [
       "2.5379356386369924e-05"
      ]
     },
     "execution_count": 29,
     "metadata": {},
     "output_type": "execute_result"
    }
   ],
   "source": [
    "X = \"sex\" # qualitative\n",
    "Y = \"price\" # quantitative\n",
    "\n",
    "def eta_squared(x,y):\n",
    "    moyenne_y = y.mean()\n",
    "    classes = []\n",
    "    for classe in x.unique():\n",
    "        yi_classe = y[x==classe]\n",
    "        classes.append({'ni': len(yi_classe),\n",
    "                        'moyenne_classe': yi_classe.mean()})\n",
    "    SCT = sum([(yj-moyenne_y)**2 for yj in y])\n",
    "    SCE = sum([c['ni']*(c['moyenne_classe']-moyenne_y)**2 for c in classes])\n",
    "    return SCE/SCT\n",
    "    \n",
    "eta_squared(panier_moyen_sexe[X],panier_moyen_sexe[Y])"
   ]
  },
  {
   "cell_type": "markdown",
   "metadata": {},
   "source": [
    "Le calcul d'Eta carré étant très proche de Zero, nous ne pourrons étalir aucune correlation entre la variable sexe et la variable panier moyen. Nous le constatons également grace aux boites à moustaches qui sont parfaitement similaires"
   ]
  },
  {
   "cell_type": "code",
   "execution_count": 30,
   "metadata": {},
   "outputs": [
    {
     "data": {
      "image/png": "[encoded data removed]",
      "text/plain": [
       "<Figure size 576x432 with 1 Axes>"
      ]
     },
     "metadata": {
      "needs_background": "light"
     },
     "output_type": "display_data"
    }
   ],
   "source": [
    "X = \"sex\" # qualitative\n",
    "Y = \"price\" # quantitative\n",
    "\n",
    "modalites = info_id[X].unique()\n",
    "groupes = []\n",
    "for m in modalites:\n",
    "    groupes.append(info_id[info_id[X]==m][Y])\n",
    "\n",
    "\n",
    "medianprops = {'color':\"DarkBlue\"}\n",
    "meanprops = {'marker':'o', 'markeredgecolor':'Green',\n",
    "            'markerfacecolor':'coral'}\n",
    "plt.figure(figsize=(8, 6))\n",
    "plt.title('Montant dépensé par article selon sexe',fontsize=14) \n",
    "plt.boxplot(groupes, labels=modalites, showfliers=False, medianprops=medianprops, \n",
    "            vert=True, patch_artist=True, showmeans=True, meanprops=meanprops)\n",
    "plt.show()"
   ]
  },
  {
   "cell_type": "code",
   "execution_count": 31,
   "metadata": {},
   "outputs": [
    {
     "data": {
      "text/plain": [
       "9.228406914338111e-07"
      ]
     },
     "execution_count": 31,
     "metadata": {},
     "output_type": "execute_result"
    }
   ],
   "source": [
    "X = \"sex\" # qualitative\n",
    "Y = \"price\" # quantitative\n",
    "\n",
    "def eta_squared(x,y):\n",
    "    moyenne_y = y.mean()\n",
    "    classes = []\n",
    "    for classe in x.unique():\n",
    "        yi_classe = y[x==classe]\n",
    "        classes.append({'ni': len(yi_classe),\n",
    "                        'moyenne_classe': yi_classe.mean()})\n",
    "    SCT = sum([(yj-moyenne_y)**2 for yj in y])\n",
    "    SCE = sum([c['ni']*(c['moyenne_classe']-moyenne_y)**2 for c in classes])\n",
    "    return SCE/SCT\n",
    "    \n",
    "eta_squared(info_id[X],info_id[Y])"
   ]
  },
  {
   "cell_type": "markdown",
   "metadata": {},
   "source": [
    "Le calcul d'Eta carré étant très proche de Zero, nous ne pourrons étalir aucune correlation entre la variable sexe et la variable prix. Nous le constatons également grace aux boites à moustaches qui sont parfaitement similaires"
   ]
  },
  {
   "cell_type": "markdown",
   "metadata": {},
   "source": [
    "### 5) Analyse du CA <a class=\"anchor\" id=\"section_2_5\"></a>"
   ]
  },
  {
   "cell_type": "markdown",
   "metadata": {},
   "source": [
    "#### a. Analyse du CA selon âge <a class=\"anchor\" id=\"section_2_5_1\"></a>"
   ]
  },
  {
   "cell_type": "code",
   "execution_count": 32,
   "metadata": {},
   "outputs": [
    {
     "data": {
      "text/html": [
       "<div>\n",
       "<style scoped>\n",
       "    .dataframe tbody tr th:only-of-type {\n",
       "        vertical-align: middle;\n",
       "    }\n",
       "\n",
       "    .dataframe tbody tr th {\n",
       "        vertical-align: top;\n",
       "    }\n",
       "\n",
       "    .dataframe thead th {\n",
       "        text-align: right;\n",
       "    }\n",
       "</style>\n",
       "<table border=\"1\" class=\"dataframe\">\n",
       "  <thead>\n",
       "    <tr style=\"text-align: right;\">\n",
       "      <th></th>\n",
       "      <th>age</th>\n",
       "      <th>price</th>\n",
       "    </tr>\n",
       "  </thead>\n",
       "  <tbody>\n",
       "    <tr>\n",
       "      <th>0</th>\n",
       "      <td>17.0</td>\n",
       "      <td>240669.910000</td>\n",
       "    </tr>\n",
       "    <tr>\n",
       "      <th>1</th>\n",
       "      <td>18.0</td>\n",
       "      <td>127250.030000</td>\n",
       "    </tr>\n",
       "    <tr>\n",
       "      <th>2</th>\n",
       "      <td>19.0</td>\n",
       "      <td>90587.952795</td>\n",
       "    </tr>\n",
       "    <tr>\n",
       "      <th>3</th>\n",
       "      <td>20.0</td>\n",
       "      <td>83495.810000</td>\n",
       "    </tr>\n",
       "    <tr>\n",
       "      <th>4</th>\n",
       "      <td>21.0</td>\n",
       "      <td>80126.282795</td>\n",
       "    </tr>\n",
       "    <tr>\n",
       "      <th>...</th>\n",
       "      <td>...</td>\n",
       "      <td>...</td>\n",
       "    </tr>\n",
       "    <tr>\n",
       "      <th>72</th>\n",
       "      <td>89.0</td>\n",
       "      <td>2887.610000</td>\n",
       "    </tr>\n",
       "    <tr>\n",
       "      <th>73</th>\n",
       "      <td>90.0</td>\n",
       "      <td>1664.940000</td>\n",
       "    </tr>\n",
       "    <tr>\n",
       "      <th>74</th>\n",
       "      <td>91.0</td>\n",
       "      <td>1809.920000</td>\n",
       "    </tr>\n",
       "    <tr>\n",
       "      <th>75</th>\n",
       "      <td>92.0</td>\n",
       "      <td>1332.170000</td>\n",
       "    </tr>\n",
       "    <tr>\n",
       "      <th>76</th>\n",
       "      <td>93.0</td>\n",
       "      <td>386.890000</td>\n",
       "    </tr>\n",
       "  </tbody>\n",
       "</table>\n",
       "<p>77 rows × 2 columns</p>\n",
       "</div>"
      ],
      "text/plain": [
       "     age          price\n",
       "0   17.0  240669.910000\n",
       "1   18.0  127250.030000\n",
       "2   19.0   90587.952795\n",
       "3   20.0   83495.810000\n",
       "4   21.0   80126.282795\n",
       "..   ...            ...\n",
       "72  89.0    2887.610000\n",
       "73  90.0    1664.940000\n",
       "74  91.0    1809.920000\n",
       "75  92.0    1332.170000\n",
       "76  93.0     386.890000\n",
       "\n",
       "[77 rows x 2 columns]"
      ]
     },
     "execution_count": 32,
     "metadata": {},
     "output_type": "execute_result"
    }
   ],
   "source": [
    "CA_birth = info_id.loc[:,[\"price\",'age']]\n",
    "CA_birth = info_id.groupby([\"age\"], as_index=False)[\"price\"].sum()\n",
    "CA_birth"
   ]
  },
  {
   "cell_type": "code",
   "execution_count": 33,
   "metadata": {},
   "outputs": [
    {
     "data": {
      "image/png": "[encoded data removed]",
      "text/plain": [
       "<Figure size 576x432 with 1 Axes>"
      ]
     },
     "metadata": {
      "needs_background": "light"
     },
     "output_type": "display_data"
    }
   ],
   "source": [
    "CA_birth.plot(x = 'age', y=['price'],figsize=(8, 6), color='coral', title = 'CA selon age', fontsize=12)\n",
    "plt.show()"
   ]
  },
  {
   "cell_type": "markdown",
   "metadata": {},
   "source": [
    "Nous pouvons constater que la catégorie qui génere le plus de chiffre d'affaire est celle autour de 45 ans. Le chiffre d'affaire décroit ensuite de façon inverse à l'âge."
   ]
  },
  {
   "cell_type": "markdown",
   "metadata": {},
   "source": [
    "#### c. Analyse du CA selon la date <a class=\"anchor\" id=\"section_2_5_3\"></a>"
   ]
  },
  {
   "cell_type": "markdown",
   "metadata": {},
   "source": [
    "##### Répartition CA / mois"
   ]
  },
  {
   "cell_type": "code",
   "execution_count": 34,
   "metadata": {},
   "outputs": [
    {
     "data": {
      "text/html": [
       "<div>\n",
       "<style scoped>\n",
       "    .dataframe tbody tr th:only-of-type {\n",
       "        vertical-align: middle;\n",
       "    }\n",
       "\n",
       "    .dataframe tbody tr th {\n",
       "        vertical-align: top;\n",
       "    }\n",
       "\n",
       "    .dataframe thead th {\n",
       "        text-align: right;\n",
       "    }\n",
       "</style>\n",
       "<table border=\"1\" class=\"dataframe\">\n",
       "  <thead>\n",
       "    <tr style=\"text-align: right;\">\n",
       "      <th></th>\n",
       "      <th>month</th>\n",
       "      <th>price</th>\n",
       "      <th>ordre</th>\n",
       "    </tr>\n",
       "  </thead>\n",
       "  <tbody>\n",
       "    <tr>\n",
       "      <th>7</th>\n",
       "      <td>March</td>\n",
       "      <td>443044.705152</td>\n",
       "      <td>1</td>\n",
       "    </tr>\n",
       "    <tr>\n",
       "      <th>0</th>\n",
       "      <td>April</td>\n",
       "      <td>436338.330741</td>\n",
       "      <td>2</td>\n",
       "    </tr>\n",
       "    <tr>\n",
       "      <th>8</th>\n",
       "      <td>May</td>\n",
       "      <td>451405.802357</td>\n",
       "      <td>3</td>\n",
       "    </tr>\n",
       "    <tr>\n",
       "      <th>6</th>\n",
       "      <td>June</td>\n",
       "      <td>444937.866768</td>\n",
       "      <td>4</td>\n",
       "    </tr>\n",
       "    <tr>\n",
       "      <th>5</th>\n",
       "      <td>July</td>\n",
       "      <td>445703.341178</td>\n",
       "      <td>5</td>\n",
       "    </tr>\n",
       "    <tr>\n",
       "      <th>1</th>\n",
       "      <td>August</td>\n",
       "      <td>443277.275152</td>\n",
       "      <td>6</td>\n",
       "    </tr>\n",
       "    <tr>\n",
       "      <th>11</th>\n",
       "      <td>September</td>\n",
       "      <td>466891.153535</td>\n",
       "      <td>7</td>\n",
       "    </tr>\n",
       "    <tr>\n",
       "      <th>10</th>\n",
       "      <td>October</td>\n",
       "      <td>295320.679562</td>\n",
       "      <td>8</td>\n",
       "    </tr>\n",
       "    <tr>\n",
       "      <th>9</th>\n",
       "      <td>November</td>\n",
       "      <td>475229.807946</td>\n",
       "      <td>9</td>\n",
       "    </tr>\n",
       "    <tr>\n",
       "      <th>2</th>\n",
       "      <td>December</td>\n",
       "      <td>484825.929562</td>\n",
       "      <td>10</td>\n",
       "    </tr>\n",
       "    <tr>\n",
       "      <th>4</th>\n",
       "      <td>January</td>\n",
       "      <td>486634.043973</td>\n",
       "      <td>11</td>\n",
       "    </tr>\n",
       "    <tr>\n",
       "      <th>3</th>\n",
       "      <td>February</td>\n",
       "      <td>490225.570741</td>\n",
       "      <td>12</td>\n",
       "    </tr>\n",
       "  </tbody>\n",
       "</table>\n",
       "</div>"
      ],
      "text/plain": [
       "        month          price  ordre\n",
       "7       March  443044.705152      1\n",
       "0       April  436338.330741      2\n",
       "8         May  451405.802357      3\n",
       "6        June  444937.866768      4\n",
       "5        July  445703.341178      5\n",
       "1      August  443277.275152      6\n",
       "11  September  466891.153535      7\n",
       "10    October  295320.679562      8\n",
       "9    November  475229.807946      9\n",
       "2    December  484825.929562     10\n",
       "4     January  486634.043973     11\n",
       "3    February  490225.570741     12"
      ]
     },
     "execution_count": 34,
     "metadata": {},
     "output_type": "execute_result"
    }
   ],
   "source": [
    "CA_month = info_id.groupby([\"month\"], as_index=False)[\"price\"].sum()\n",
    "CA_month['ordre'] = [2,6,10,12,11,5,4,1,3,9,8,7]\n",
    "CA_month = CA_month.sort_values(by = 'ordre')\n",
    "CA_month"
   ]
  },
  {
   "cell_type": "code",
   "execution_count": 35,
   "metadata": {},
   "outputs": [
    {
     "data": {
      "image/png": "[encoded data removed]",
      "text/plain": [
       "<Figure size 576x432 with 1 Axes>"
      ]
     },
     "metadata": {
      "needs_background": "light"
     },
     "output_type": "display_data"
    }
   ],
   "source": [
    "CA_month.plot(x = 'month', y=['price'],figsize=(8, 6),kind = 'bar', color='purple', title = 'CA par mois', fontsize=12)\n",
    "plt.show()"
   ]
  },
  {
   "cell_type": "markdown",
   "metadata": {},
   "source": [
    "Nous pouvons constater qu'il semblerait qu'il y est eu un problème d'enregistrement au mois octobre "
   ]
  },
  {
   "cell_type": "markdown",
   "metadata": {},
   "source": [
    "#### d. Analyse du CA du mois d'octobre <a class=\"anchor\" id=\"section_2_5_4\"></a>"
   ]
  },
  {
   "cell_type": "code",
   "execution_count": 36,
   "metadata": {},
   "outputs": [
    {
     "data": {
      "image/png": "[encoded data removed]",
      "text/plain": [
       "<Figure size 576x432 with 1 Axes>"
      ]
     },
     "metadata": {
      "needs_background": "light"
     },
     "output_type": "display_data"
    }
   ],
   "source": [
    "october = info_id[info_id.month == 'October'].groupby([\"date\"], as_index=False)[\"price\"].sum()\n",
    "october.plot(x = 'date', y=['price'],figsize=(8, 6), color='coral', title = 'CA octobre', fontsize=12)\n",
    "plt.show()"
   ]
  },
  {
   "cell_type": "markdown",
   "metadata": {},
   "source": [
    "Il semblerait que le problème s'étale du 1e au 27 octobre"
   ]
  },
  {
   "cell_type": "code",
   "execution_count": 37,
   "metadata": {},
   "outputs": [
    {
     "data": {
      "image/png": "[encoded data removed]",
      "text/plain": [
       "<Figure size 576x432 with 1 Axes>"
      ]
     },
     "metadata": {
      "needs_background": "light"
     },
     "output_type": "display_data"
    }
   ],
   "source": [
    "categ_vente = info_id[info_id.month == \"October\"]\n",
    "categ_vente0 = categ_vente[categ_vente.categ == 0]\n",
    "october0 = categ_vente0.groupby([\"date\"], as_index=False)['price'].sum()\n",
    "october0.plot(x = 'date', y=['price'],figsize=(8, 6), color='green', title = 'CA octobre catégorie 0', fontsize=12)\n",
    "plt.show()"
   ]
  },
  {
   "cell_type": "code",
   "execution_count": 38,
   "metadata": {},
   "outputs": [
    {
     "data": {
      "image/png": "[encoded data removed]",
      "text/plain": [
       "<Figure size 576x432 with 1 Axes>"
      ]
     },
     "metadata": {
      "needs_background": "light"
     },
     "output_type": "display_data"
    }
   ],
   "source": [
    "categ_vente1 = categ_vente[categ_vente.categ == 1]\n",
    "october1 = categ_vente1.groupby([\"date\"], as_index=False)['price'].sum()\n",
    "october1.plot(x = 'date', y=['price'],figsize=(8, 6), color='green', title = 'CA octobre catégorie 1', fontsize=12)\n",
    "plt.show()"
   ]
  },
  {
   "cell_type": "code",
   "execution_count": 39,
   "metadata": {},
   "outputs": [
    {
     "data": {
      "image/png": "[encoded data removed]",
      "text/plain": [
       "<Figure size 576x432 with 1 Axes>"
      ]
     },
     "metadata": {
      "needs_background": "light"
     },
     "output_type": "display_data"
    }
   ],
   "source": [
    "categ_vente2 = categ_vente[categ_vente.categ == 2]\n",
    "october2 = categ_vente2.groupby([\"date\"], as_index=False)['price'].sum()\n",
    "october2.plot(x = 'date', y=['price'],figsize=(8, 6), color='green', title = 'CA octobre catégorie 2', fontsize=12)\n",
    "plt.show()"
   ]
  },
  {
   "cell_type": "markdown",
   "metadata": {},
   "source": [
    "La catégorie 1 est donc celle qui pose problème"
   ]
  },
  {
   "cell_type": "code",
   "execution_count": 40,
   "metadata": {},
   "outputs": [
    {
     "data": {
      "text/html": [
       "<div>\n",
       "<style scoped>\n",
       "    .dataframe tbody tr th:only-of-type {\n",
       "        vertical-align: middle;\n",
       "    }\n",
       "\n",
       "    .dataframe tbody tr th {\n",
       "        vertical-align: top;\n",
       "    }\n",
       "\n",
       "    .dataframe thead th {\n",
       "        text-align: right;\n",
       "    }\n",
       "</style>\n",
       "<table border=\"1\" class=\"dataframe\">\n",
       "  <thead>\n",
       "    <tr style=\"text-align: right;\">\n",
       "      <th></th>\n",
       "      <th>date</th>\n",
       "      <th>CA1</th>\n",
       "      <th>CA2</th>\n",
       "      <th>CA0</th>\n",
       "    </tr>\n",
       "  </thead>\n",
       "  <tbody>\n",
       "    <tr>\n",
       "      <th>0</th>\n",
       "      <td>2021-10-01</td>\n",
       "      <td>6530.99</td>\n",
       "      <td>2752.09</td>\n",
       "      <td>6258.120000</td>\n",
       "    </tr>\n",
       "    <tr>\n",
       "      <th>1</th>\n",
       "      <td>2021-10-02</td>\n",
       "      <td>0.00</td>\n",
       "      <td>1781.00</td>\n",
       "      <td>6450.520000</td>\n",
       "    </tr>\n",
       "    <tr>\n",
       "      <th>2</th>\n",
       "      <td>2021-10-03</td>\n",
       "      <td>0.00</td>\n",
       "      <td>1827.13</td>\n",
       "      <td>6231.860000</td>\n",
       "    </tr>\n",
       "    <tr>\n",
       "      <th>3</th>\n",
       "      <td>2021-10-04</td>\n",
       "      <td>0.00</td>\n",
       "      <td>2217.94</td>\n",
       "      <td>6189.785589</td>\n",
       "    </tr>\n",
       "    <tr>\n",
       "      <th>4</th>\n",
       "      <td>2021-10-05</td>\n",
       "      <td>0.00</td>\n",
       "      <td>2920.56</td>\n",
       "      <td>6181.620000</td>\n",
       "    </tr>\n",
       "    <tr>\n",
       "      <th>5</th>\n",
       "      <td>2021-10-06</td>\n",
       "      <td>0.00</td>\n",
       "      <td>1660.50</td>\n",
       "      <td>7014.930000</td>\n",
       "    </tr>\n",
       "    <tr>\n",
       "      <th>6</th>\n",
       "      <td>2021-10-07</td>\n",
       "      <td>0.00</td>\n",
       "      <td>1715.08</td>\n",
       "      <td>5932.980000</td>\n",
       "    </tr>\n",
       "    <tr>\n",
       "      <th>7</th>\n",
       "      <td>2021-10-08</td>\n",
       "      <td>0.00</td>\n",
       "      <td>2946.05</td>\n",
       "      <td>6552.440000</td>\n",
       "    </tr>\n",
       "    <tr>\n",
       "      <th>8</th>\n",
       "      <td>2021-10-09</td>\n",
       "      <td>0.00</td>\n",
       "      <td>2268.30</td>\n",
       "      <td>6080.920000</td>\n",
       "    </tr>\n",
       "    <tr>\n",
       "      <th>9</th>\n",
       "      <td>2021-10-10</td>\n",
       "      <td>0.00</td>\n",
       "      <td>2053.54</td>\n",
       "      <td>5911.370000</td>\n",
       "    </tr>\n",
       "    <tr>\n",
       "      <th>10</th>\n",
       "      <td>2021-10-11</td>\n",
       "      <td>0.00</td>\n",
       "      <td>2932.21</td>\n",
       "      <td>6570.660000</td>\n",
       "    </tr>\n",
       "    <tr>\n",
       "      <th>11</th>\n",
       "      <td>2021-10-12</td>\n",
       "      <td>0.00</td>\n",
       "      <td>1937.27</td>\n",
       "      <td>6321.250000</td>\n",
       "    </tr>\n",
       "    <tr>\n",
       "      <th>12</th>\n",
       "      <td>2021-10-13</td>\n",
       "      <td>0.00</td>\n",
       "      <td>2579.83</td>\n",
       "      <td>6242.930000</td>\n",
       "    </tr>\n",
       "    <tr>\n",
       "      <th>13</th>\n",
       "      <td>2021-10-14</td>\n",
       "      <td>0.00</td>\n",
       "      <td>2517.68</td>\n",
       "      <td>6036.470000</td>\n",
       "    </tr>\n",
       "    <tr>\n",
       "      <th>14</th>\n",
       "      <td>2021-10-15</td>\n",
       "      <td>0.00</td>\n",
       "      <td>2512.41</td>\n",
       "      <td>6134.232795</td>\n",
       "    </tr>\n",
       "    <tr>\n",
       "      <th>15</th>\n",
       "      <td>2021-10-16</td>\n",
       "      <td>0.00</td>\n",
       "      <td>3206.01</td>\n",
       "      <td>6222.320000</td>\n",
       "    </tr>\n",
       "    <tr>\n",
       "      <th>16</th>\n",
       "      <td>2021-10-17</td>\n",
       "      <td>0.00</td>\n",
       "      <td>3015.77</td>\n",
       "      <td>6007.650000</td>\n",
       "    </tr>\n",
       "    <tr>\n",
       "      <th>17</th>\n",
       "      <td>2021-10-18</td>\n",
       "      <td>0.00</td>\n",
       "      <td>2562.99</td>\n",
       "      <td>5795.060000</td>\n",
       "    </tr>\n",
       "    <tr>\n",
       "      <th>18</th>\n",
       "      <td>2021-10-19</td>\n",
       "      <td>0.00</td>\n",
       "      <td>2020.38</td>\n",
       "      <td>5399.535589</td>\n",
       "    </tr>\n",
       "    <tr>\n",
       "      <th>19</th>\n",
       "      <td>2021-10-20</td>\n",
       "      <td>0.00</td>\n",
       "      <td>2883.13</td>\n",
       "      <td>5426.402795</td>\n",
       "    </tr>\n",
       "    <tr>\n",
       "      <th>20</th>\n",
       "      <td>2021-10-21</td>\n",
       "      <td>0.00</td>\n",
       "      <td>2941.01</td>\n",
       "      <td>6104.470000</td>\n",
       "    </tr>\n",
       "    <tr>\n",
       "      <th>21</th>\n",
       "      <td>2021-10-22</td>\n",
       "      <td>0.00</td>\n",
       "      <td>1841.49</td>\n",
       "      <td>5646.980000</td>\n",
       "    </tr>\n",
       "    <tr>\n",
       "      <th>22</th>\n",
       "      <td>2021-10-23</td>\n",
       "      <td>0.00</td>\n",
       "      <td>2731.85</td>\n",
       "      <td>5299.030000</td>\n",
       "    </tr>\n",
       "    <tr>\n",
       "      <th>23</th>\n",
       "      <td>2021-10-24</td>\n",
       "      <td>0.00</td>\n",
       "      <td>3640.57</td>\n",
       "      <td>5618.870000</td>\n",
       "    </tr>\n",
       "    <tr>\n",
       "      <th>24</th>\n",
       "      <td>2021-10-25</td>\n",
       "      <td>0.00</td>\n",
       "      <td>2200.23</td>\n",
       "      <td>5464.060000</td>\n",
       "    </tr>\n",
       "    <tr>\n",
       "      <th>25</th>\n",
       "      <td>2021-10-26</td>\n",
       "      <td>0.00</td>\n",
       "      <td>1938.98</td>\n",
       "      <td>5958.082795</td>\n",
       "    </tr>\n",
       "    <tr>\n",
       "      <th>26</th>\n",
       "      <td>2021-10-27</td>\n",
       "      <td>0.00</td>\n",
       "      <td>3845.90</td>\n",
       "      <td>5484.200000</td>\n",
       "    </tr>\n",
       "    <tr>\n",
       "      <th>27</th>\n",
       "      <td>2021-10-28</td>\n",
       "      <td>5934.03</td>\n",
       "      <td>2280.37</td>\n",
       "      <td>5470.220000</td>\n",
       "    </tr>\n",
       "    <tr>\n",
       "      <th>28</th>\n",
       "      <td>2021-10-29</td>\n",
       "      <td>6061.82</td>\n",
       "      <td>3504.56</td>\n",
       "      <td>5768.920000</td>\n",
       "    </tr>\n",
       "    <tr>\n",
       "      <th>29</th>\n",
       "      <td>2021-10-30</td>\n",
       "      <td>6406.92</td>\n",
       "      <td>2386.54</td>\n",
       "      <td>5375.390000</td>\n",
       "    </tr>\n",
       "    <tr>\n",
       "      <th>30</th>\n",
       "      <td>2021-10-31</td>\n",
       "      <td>6958.25</td>\n",
       "      <td>2949.22</td>\n",
       "      <td>5706.800000</td>\n",
       "    </tr>\n",
       "  </tbody>\n",
       "</table>\n",
       "</div>"
      ],
      "text/plain": [
       "         date      CA1      CA2          CA0\n",
       "0  2021-10-01  6530.99  2752.09  6258.120000\n",
       "1  2021-10-02     0.00  1781.00  6450.520000\n",
       "2  2021-10-03     0.00  1827.13  6231.860000\n",
       "3  2021-10-04     0.00  2217.94  6189.785589\n",
       "4  2021-10-05     0.00  2920.56  6181.620000\n",
       "5  2021-10-06     0.00  1660.50  7014.930000\n",
       "6  2021-10-07     0.00  1715.08  5932.980000\n",
       "7  2021-10-08     0.00  2946.05  6552.440000\n",
       "8  2021-10-09     0.00  2268.30  6080.920000\n",
       "9  2021-10-10     0.00  2053.54  5911.370000\n",
       "10 2021-10-11     0.00  2932.21  6570.660000\n",
       "11 2021-10-12     0.00  1937.27  6321.250000\n",
       "12 2021-10-13     0.00  2579.83  6242.930000\n",
       "13 2021-10-14     0.00  2517.68  6036.470000\n",
       "14 2021-10-15     0.00  2512.41  6134.232795\n",
       "15 2021-10-16     0.00  3206.01  6222.320000\n",
       "16 2021-10-17     0.00  3015.77  6007.650000\n",
       "17 2021-10-18     0.00  2562.99  5795.060000\n",
       "18 2021-10-19     0.00  2020.38  5399.535589\n",
       "19 2021-10-20     0.00  2883.13  5426.402795\n",
       "20 2021-10-21     0.00  2941.01  6104.470000\n",
       "21 2021-10-22     0.00  1841.49  5646.980000\n",
       "22 2021-10-23     0.00  2731.85  5299.030000\n",
       "23 2021-10-24     0.00  3640.57  5618.870000\n",
       "24 2021-10-25     0.00  2200.23  5464.060000\n",
       "25 2021-10-26     0.00  1938.98  5958.082795\n",
       "26 2021-10-27     0.00  3845.90  5484.200000\n",
       "27 2021-10-28  5934.03  2280.37  5470.220000\n",
       "28 2021-10-29  6061.82  3504.56  5768.920000\n",
       "29 2021-10-30  6406.92  2386.54  5375.390000\n",
       "30 2021-10-31  6958.25  2949.22  5706.800000"
      ]
     },
     "execution_count": 40,
     "metadata": {},
     "output_type": "execute_result"
    }
   ],
   "source": [
    "october0.rename(columns={'price': 'CA0'}, inplace=True)\n",
    "october1.rename(columns={'price': 'CA1'}, inplace=True)\n",
    "october2.rename(columns={'price': 'CA2'}, inplace=True)\n",
    "vente_october = pd.merge(october0,october1, on='date', how='outer')\n",
    "vente_october = pd.merge(vente_october,october2, on='date', how='outer')\n",
    "vente_october['CA1'] = vente_october['CA1'].fillna(0)\n",
    "cols=[\"date\",\"CA1\",\"CA2\",\"CA0\"]\n",
    "vente_october=vente_october.reindex(columns=cols)\n",
    "vente_october"
   ]
  },
  {
   "cell_type": "markdown",
   "metadata": {},
   "source": [
    "Nous vérifions ici que le problème d'enregistrement a bien eu lieu au niveau de la catégorie 1 du 02/12 au 27/12"
   ]
  },
  {
   "cell_type": "code",
   "execution_count": 41,
   "metadata": {},
   "outputs": [
    {
     "data": {
      "image/png": "[encoded data removed]",
      "text/plain": [
       "<Figure size 576x432 with 1 Axes>"
      ]
     },
     "metadata": {
      "needs_background": "light"
     },
     "output_type": "display_data"
    }
   ],
   "source": [
    "vente_october.plot.area(x ='date', alpha=0.4, color=['coral', 'purple', 'lightgreen'],figsize=(8, 6), title='CA octobre par catégorie', fontsize=12, stacked=False)\n",
    "plt.show()"
   ]
  },
  {
   "cell_type": "markdown",
   "metadata": {},
   "source": [
    "##### Calcul des valeurs manquantes par regression linéaire"
   ]
  },
  {
   "cell_type": "code",
   "execution_count": 42,
   "metadata": {},
   "outputs": [
    {
     "data": {
      "text/html": [
       "<div>\n",
       "<style scoped>\n",
       "    .dataframe tbody tr th:only-of-type {\n",
       "        vertical-align: middle;\n",
       "    }\n",
       "\n",
       "    .dataframe tbody tr th {\n",
       "        vertical-align: top;\n",
       "    }\n",
       "\n",
       "    .dataframe thead th {\n",
       "        text-align: right;\n",
       "    }\n",
       "</style>\n",
       "<table border=\"1\" class=\"dataframe\">\n",
       "  <thead>\n",
       "    <tr style=\"text-align: right;\">\n",
       "      <th></th>\n",
       "      <th>greg</th>\n",
       "      <th>price</th>\n",
       "    </tr>\n",
       "  </thead>\n",
       "  <tbody>\n",
       "    <tr>\n",
       "      <th>0</th>\n",
       "      <td>737850</td>\n",
       "      <td>6375.49</td>\n",
       "    </tr>\n",
       "    <tr>\n",
       "      <th>1</th>\n",
       "      <td>737851</td>\n",
       "      <td>5253.16</td>\n",
       "    </tr>\n",
       "    <tr>\n",
       "      <th>2</th>\n",
       "      <td>737852</td>\n",
       "      <td>5217.22</td>\n",
       "    </tr>\n",
       "    <tr>\n",
       "      <th>3</th>\n",
       "      <td>737853</td>\n",
       "      <td>5614.73</td>\n",
       "    </tr>\n",
       "    <tr>\n",
       "      <th>4</th>\n",
       "      <td>737854</td>\n",
       "      <td>6522.55</td>\n",
       "    </tr>\n",
       "    <tr>\n",
       "      <th>...</th>\n",
       "      <td>...</td>\n",
       "      <td>...</td>\n",
       "    </tr>\n",
       "    <tr>\n",
       "      <th>209</th>\n",
       "      <td>738059</td>\n",
       "      <td>5785.17</td>\n",
       "    </tr>\n",
       "    <tr>\n",
       "      <th>210</th>\n",
       "      <td>738060</td>\n",
       "      <td>6428.94</td>\n",
       "    </tr>\n",
       "    <tr>\n",
       "      <th>211</th>\n",
       "      <td>738061</td>\n",
       "      <td>5925.90</td>\n",
       "    </tr>\n",
       "    <tr>\n",
       "      <th>212</th>\n",
       "      <td>738062</td>\n",
       "      <td>6374.58</td>\n",
       "    </tr>\n",
       "    <tr>\n",
       "      <th>213</th>\n",
       "      <td>738063</td>\n",
       "      <td>6547.32</td>\n",
       "    </tr>\n",
       "  </tbody>\n",
       "</table>\n",
       "<p>214 rows × 2 columns</p>\n",
       "</div>"
      ],
      "text/plain": [
       "       greg    price\n",
       "0    737850  6375.49\n",
       "1    737851  5253.16\n",
       "2    737852  5217.22\n",
       "3    737853  5614.73\n",
       "4    737854  6522.55\n",
       "..      ...      ...\n",
       "209  738059  5785.17\n",
       "210  738060  6428.94\n",
       "211  738061  5925.90\n",
       "212  738062  6374.58\n",
       "213  738063  6547.32\n",
       "\n",
       "[214 rows x 2 columns]"
      ]
     },
     "execution_count": 42,
     "metadata": {},
     "output_type": "execute_result"
    }
   ],
   "source": [
    "info_id1 = info_id[info_id.categ == 1]\n",
    "info_id1 = info_id1.loc[~info_id[\"month\"].isin(['October','November','December','January','February'])]\n",
    "info_id1 = info_id1.loc[:,[\"greg\",'price']]\n",
    "info_id1 = info_id1.groupby([\"greg\"], as_index=False)[\"price\"].sum()\n",
    "info_id1"
   ]
  },
  {
   "cell_type": "code",
   "execution_count": 43,
   "metadata": {},
   "outputs": [
    {
     "data": {
      "image/png": "[encoded data removed]",
      "text/plain": [
       "<Figure size 576x432 with 1 Axes>"
      ]
     },
     "metadata": {
      "needs_background": "light"
     },
     "output_type": "display_data"
    }
   ],
   "source": [
    "info_id1.plot(x='greg', y= 'price', kind = 'scatter',figsize=(8, 6))\n",
    "plt.show()"
   ]
  },
  {
   "cell_type": "code",
   "execution_count": 44,
   "metadata": {},
   "outputs": [],
   "source": [
    "Y = info_id1['price']\n",
    "X = info_id1[['greg']]\n",
    "X = X.copy() # On modifiera X, on en crée donc une cop\n",
    "X['intercept'] = 1.\n",
    "result = sm.OLS(Y, X).fit() # OLS = Ordinary Least Square (Moindres Carrés Ordinaire)\n",
    "a,b = result.params['greg'],result.params['intercept']"
   ]
  },
  {
   "cell_type": "markdown",
   "metadata": {},
   "source": [
    "##### Coefficient de correlation "
   ]
  },
  {
   "cell_type": "code",
   "execution_count": 45,
   "metadata": {},
   "outputs": [
    {
     "name": "stdout",
     "output_type": "stream",
     "text": [
      "0.19986378299584534\n"
     ]
    }
   ],
   "source": [
    "print(st.pearsonr(info_id1[\"price\"],info_id1[\"greg\"])[0])"
   ]
  },
  {
   "cell_type": "code",
   "execution_count": 46,
   "metadata": {},
   "outputs": [
    {
     "data": {
      "text/plain": [
       "1.940263176107498"
      ]
     },
     "execution_count": 46,
     "metadata": {},
     "output_type": "execute_result"
    }
   ],
   "source": [
    "a"
   ]
  },
  {
   "cell_type": "markdown",
   "metadata": {},
   "source": [
    "##### Ordonnée à l'origine"
   ]
  },
  {
   "cell_type": "code",
   "execution_count": 47,
   "metadata": {},
   "outputs": [
    {
     "data": {
      "text/plain": [
       "-1426407.688967771"
      ]
     },
     "execution_count": 47,
     "metadata": {},
     "output_type": "execute_result"
    }
   ],
   "source": [
    "b"
   ]
  },
  {
   "cell_type": "code",
   "execution_count": 48,
   "metadata": {},
   "outputs": [
    {
     "data": {
      "image/png": "[encoded data removed]",
      "text/plain": [
       "<Figure size 576x432 with 1 Axes>"
      ]
     },
     "metadata": {
      "needs_background": "light"
     },
     "output_type": "display_data"
    }
   ],
   "source": [
    "plt.figure(figsize=(8, 6))\n",
    "plt.title('Regression linéaire CA avant octobre',fontsize=14) \n",
    "plt.plot(info_id1.greg,info_id1.price, \"o\")\n",
    "plt.plot(np.arange(737850,738063),[a*x+b for x in np.arange(737850,738063)])\n",
    "plt.xlabel(\"greg\")\n",
    "plt.ylabel(\"price\")\n",
    "plt.show()"
   ]
  },
  {
   "cell_type": "code",
   "execution_count": 49,
   "metadata": {},
   "outputs": [
    {
     "data": {
      "text/html": [
       "<div>\n",
       "<style scoped>\n",
       "    .dataframe tbody tr th:only-of-type {\n",
       "        vertical-align: middle;\n",
       "    }\n",
       "\n",
       "    .dataframe tbody tr th {\n",
       "        vertical-align: top;\n",
       "    }\n",
       "\n",
       "    .dataframe thead th {\n",
       "        text-align: right;\n",
       "    }\n",
       "</style>\n",
       "<table border=\"1\" class=\"dataframe\">\n",
       "  <thead>\n",
       "    <tr style=\"text-align: right;\">\n",
       "      <th></th>\n",
       "      <th>date</th>\n",
       "      <th>CA1</th>\n",
       "      <th>CA2</th>\n",
       "      <th>CA0</th>\n",
       "      <th>greg</th>\n",
       "      <th>CA1 imput</th>\n",
       "      <th>CA</th>\n",
       "      <th>month</th>\n",
       "    </tr>\n",
       "  </thead>\n",
       "  <tbody>\n",
       "    <tr>\n",
       "      <th>0</th>\n",
       "      <td>2021-10-01</td>\n",
       "      <td>6530.990000</td>\n",
       "      <td>2752.09</td>\n",
       "      <td>6258.120000</td>\n",
       "      <td>738064</td>\n",
       "      <td>5630.711843</td>\n",
       "      <td>15541.200000</td>\n",
       "      <td>October</td>\n",
       "    </tr>\n",
       "    <tr>\n",
       "      <th>1</th>\n",
       "      <td>2021-10-02</td>\n",
       "      <td>5632.652106</td>\n",
       "      <td>1781.00</td>\n",
       "      <td>6450.520000</td>\n",
       "      <td>738065</td>\n",
       "      <td>5632.652106</td>\n",
       "      <td>13864.172106</td>\n",
       "      <td>October</td>\n",
       "    </tr>\n",
       "    <tr>\n",
       "      <th>2</th>\n",
       "      <td>2021-10-03</td>\n",
       "      <td>5634.592369</td>\n",
       "      <td>1827.13</td>\n",
       "      <td>6231.860000</td>\n",
       "      <td>738066</td>\n",
       "      <td>5634.592369</td>\n",
       "      <td>13693.582369</td>\n",
       "      <td>October</td>\n",
       "    </tr>\n",
       "    <tr>\n",
       "      <th>3</th>\n",
       "      <td>2021-10-04</td>\n",
       "      <td>5636.532632</td>\n",
       "      <td>2217.94</td>\n",
       "      <td>6189.785589</td>\n",
       "      <td>738067</td>\n",
       "      <td>5636.532632</td>\n",
       "      <td>14044.258222</td>\n",
       "      <td>October</td>\n",
       "    </tr>\n",
       "    <tr>\n",
       "      <th>4</th>\n",
       "      <td>2021-10-05</td>\n",
       "      <td>5638.472896</td>\n",
       "      <td>2920.56</td>\n",
       "      <td>6181.620000</td>\n",
       "      <td>738068</td>\n",
       "      <td>5638.472896</td>\n",
       "      <td>14740.652896</td>\n",
       "      <td>October</td>\n",
       "    </tr>\n",
       "    <tr>\n",
       "      <th>5</th>\n",
       "      <td>2021-10-06</td>\n",
       "      <td>5640.413159</td>\n",
       "      <td>1660.50</td>\n",
       "      <td>7014.930000</td>\n",
       "      <td>738069</td>\n",
       "      <td>5640.413159</td>\n",
       "      <td>14315.843159</td>\n",
       "      <td>October</td>\n",
       "    </tr>\n",
       "    <tr>\n",
       "      <th>6</th>\n",
       "      <td>2021-10-07</td>\n",
       "      <td>5642.353422</td>\n",
       "      <td>1715.08</td>\n",
       "      <td>5932.980000</td>\n",
       "      <td>738070</td>\n",
       "      <td>5642.353422</td>\n",
       "      <td>13290.413422</td>\n",
       "      <td>October</td>\n",
       "    </tr>\n",
       "    <tr>\n",
       "      <th>7</th>\n",
       "      <td>2021-10-08</td>\n",
       "      <td>5644.293685</td>\n",
       "      <td>2946.05</td>\n",
       "      <td>6552.440000</td>\n",
       "      <td>738071</td>\n",
       "      <td>5644.293685</td>\n",
       "      <td>15142.783685</td>\n",
       "      <td>October</td>\n",
       "    </tr>\n",
       "    <tr>\n",
       "      <th>8</th>\n",
       "      <td>2021-10-09</td>\n",
       "      <td>5646.233948</td>\n",
       "      <td>2268.30</td>\n",
       "      <td>6080.920000</td>\n",
       "      <td>738072</td>\n",
       "      <td>5646.233948</td>\n",
       "      <td>13995.453948</td>\n",
       "      <td>October</td>\n",
       "    </tr>\n",
       "    <tr>\n",
       "      <th>9</th>\n",
       "      <td>2021-10-10</td>\n",
       "      <td>5648.174211</td>\n",
       "      <td>2053.54</td>\n",
       "      <td>5911.370000</td>\n",
       "      <td>738073</td>\n",
       "      <td>5648.174211</td>\n",
       "      <td>13613.084211</td>\n",
       "      <td>October</td>\n",
       "    </tr>\n",
       "    <tr>\n",
       "      <th>10</th>\n",
       "      <td>2021-10-11</td>\n",
       "      <td>5650.114475</td>\n",
       "      <td>2932.21</td>\n",
       "      <td>6570.660000</td>\n",
       "      <td>738074</td>\n",
       "      <td>5650.114475</td>\n",
       "      <td>15152.984475</td>\n",
       "      <td>October</td>\n",
       "    </tr>\n",
       "    <tr>\n",
       "      <th>11</th>\n",
       "      <td>2021-10-12</td>\n",
       "      <td>5652.054738</td>\n",
       "      <td>1937.27</td>\n",
       "      <td>6321.250000</td>\n",
       "      <td>738075</td>\n",
       "      <td>5652.054738</td>\n",
       "      <td>13910.574738</td>\n",
       "      <td>October</td>\n",
       "    </tr>\n",
       "    <tr>\n",
       "      <th>12</th>\n",
       "      <td>2021-10-13</td>\n",
       "      <td>5653.995001</td>\n",
       "      <td>2579.83</td>\n",
       "      <td>6242.930000</td>\n",
       "      <td>738076</td>\n",
       "      <td>5653.995001</td>\n",
       "      <td>14476.755001</td>\n",
       "      <td>October</td>\n",
       "    </tr>\n",
       "    <tr>\n",
       "      <th>13</th>\n",
       "      <td>2021-10-14</td>\n",
       "      <td>5655.935264</td>\n",
       "      <td>2517.68</td>\n",
       "      <td>6036.470000</td>\n",
       "      <td>738077</td>\n",
       "      <td>5655.935264</td>\n",
       "      <td>14210.085264</td>\n",
       "      <td>October</td>\n",
       "    </tr>\n",
       "    <tr>\n",
       "      <th>14</th>\n",
       "      <td>2021-10-15</td>\n",
       "      <td>5657.875527</td>\n",
       "      <td>2512.41</td>\n",
       "      <td>6134.232795</td>\n",
       "      <td>738078</td>\n",
       "      <td>5657.875527</td>\n",
       "      <td>14304.518322</td>\n",
       "      <td>October</td>\n",
       "    </tr>\n",
       "    <tr>\n",
       "      <th>15</th>\n",
       "      <td>2021-10-16</td>\n",
       "      <td>5659.815790</td>\n",
       "      <td>3206.01</td>\n",
       "      <td>6222.320000</td>\n",
       "      <td>738079</td>\n",
       "      <td>5659.815790</td>\n",
       "      <td>15088.145790</td>\n",
       "      <td>October</td>\n",
       "    </tr>\n",
       "    <tr>\n",
       "      <th>16</th>\n",
       "      <td>2021-10-17</td>\n",
       "      <td>5661.756054</td>\n",
       "      <td>3015.77</td>\n",
       "      <td>6007.650000</td>\n",
       "      <td>738080</td>\n",
       "      <td>5661.756054</td>\n",
       "      <td>14685.176054</td>\n",
       "      <td>October</td>\n",
       "    </tr>\n",
       "    <tr>\n",
       "      <th>17</th>\n",
       "      <td>2021-10-18</td>\n",
       "      <td>5663.696317</td>\n",
       "      <td>2562.99</td>\n",
       "      <td>5795.060000</td>\n",
       "      <td>738081</td>\n",
       "      <td>5663.696317</td>\n",
       "      <td>14021.746317</td>\n",
       "      <td>October</td>\n",
       "    </tr>\n",
       "    <tr>\n",
       "      <th>18</th>\n",
       "      <td>2021-10-19</td>\n",
       "      <td>5665.636580</td>\n",
       "      <td>2020.38</td>\n",
       "      <td>5399.535589</td>\n",
       "      <td>738082</td>\n",
       "      <td>5665.636580</td>\n",
       "      <td>13085.552169</td>\n",
       "      <td>October</td>\n",
       "    </tr>\n",
       "    <tr>\n",
       "      <th>19</th>\n",
       "      <td>2021-10-20</td>\n",
       "      <td>5667.576843</td>\n",
       "      <td>2883.13</td>\n",
       "      <td>5426.402795</td>\n",
       "      <td>738083</td>\n",
       "      <td>5667.576843</td>\n",
       "      <td>13977.109638</td>\n",
       "      <td>October</td>\n",
       "    </tr>\n",
       "    <tr>\n",
       "      <th>20</th>\n",
       "      <td>2021-10-21</td>\n",
       "      <td>5669.517106</td>\n",
       "      <td>2941.01</td>\n",
       "      <td>6104.470000</td>\n",
       "      <td>738084</td>\n",
       "      <td>5669.517106</td>\n",
       "      <td>14714.997106</td>\n",
       "      <td>October</td>\n",
       "    </tr>\n",
       "    <tr>\n",
       "      <th>21</th>\n",
       "      <td>2021-10-22</td>\n",
       "      <td>5671.457370</td>\n",
       "      <td>1841.49</td>\n",
       "      <td>5646.980000</td>\n",
       "      <td>738085</td>\n",
       "      <td>5671.457370</td>\n",
       "      <td>13159.927370</td>\n",
       "      <td>October</td>\n",
       "    </tr>\n",
       "    <tr>\n",
       "      <th>22</th>\n",
       "      <td>2021-10-23</td>\n",
       "      <td>5673.397633</td>\n",
       "      <td>2731.85</td>\n",
       "      <td>5299.030000</td>\n",
       "      <td>738086</td>\n",
       "      <td>5673.397633</td>\n",
       "      <td>13704.277633</td>\n",
       "      <td>October</td>\n",
       "    </tr>\n",
       "    <tr>\n",
       "      <th>23</th>\n",
       "      <td>2021-10-24</td>\n",
       "      <td>5675.337896</td>\n",
       "      <td>3640.57</td>\n",
       "      <td>5618.870000</td>\n",
       "      <td>738087</td>\n",
       "      <td>5675.337896</td>\n",
       "      <td>14934.777896</td>\n",
       "      <td>October</td>\n",
       "    </tr>\n",
       "    <tr>\n",
       "      <th>24</th>\n",
       "      <td>2021-10-25</td>\n",
       "      <td>5677.278159</td>\n",
       "      <td>2200.23</td>\n",
       "      <td>5464.060000</td>\n",
       "      <td>738088</td>\n",
       "      <td>5677.278159</td>\n",
       "      <td>13341.568159</td>\n",
       "      <td>October</td>\n",
       "    </tr>\n",
       "    <tr>\n",
       "      <th>25</th>\n",
       "      <td>2021-10-26</td>\n",
       "      <td>5679.218422</td>\n",
       "      <td>1938.98</td>\n",
       "      <td>5958.082795</td>\n",
       "      <td>738089</td>\n",
       "      <td>5679.218422</td>\n",
       "      <td>13576.281217</td>\n",
       "      <td>October</td>\n",
       "    </tr>\n",
       "    <tr>\n",
       "      <th>26</th>\n",
       "      <td>2021-10-27</td>\n",
       "      <td>5681.158685</td>\n",
       "      <td>3845.90</td>\n",
       "      <td>5484.200000</td>\n",
       "      <td>738090</td>\n",
       "      <td>5681.158685</td>\n",
       "      <td>15011.258685</td>\n",
       "      <td>October</td>\n",
       "    </tr>\n",
       "    <tr>\n",
       "      <th>27</th>\n",
       "      <td>2021-10-28</td>\n",
       "      <td>5934.030000</td>\n",
       "      <td>2280.37</td>\n",
       "      <td>5470.220000</td>\n",
       "      <td>738091</td>\n",
       "      <td>5683.098949</td>\n",
       "      <td>13684.620000</td>\n",
       "      <td>October</td>\n",
       "    </tr>\n",
       "    <tr>\n",
       "      <th>28</th>\n",
       "      <td>2021-10-29</td>\n",
       "      <td>6061.820000</td>\n",
       "      <td>3504.56</td>\n",
       "      <td>5768.920000</td>\n",
       "      <td>738092</td>\n",
       "      <td>5685.039212</td>\n",
       "      <td>15335.300000</td>\n",
       "      <td>October</td>\n",
       "    </tr>\n",
       "    <tr>\n",
       "      <th>29</th>\n",
       "      <td>2021-10-30</td>\n",
       "      <td>6406.920000</td>\n",
       "      <td>2386.54</td>\n",
       "      <td>5375.390000</td>\n",
       "      <td>738093</td>\n",
       "      <td>5686.979475</td>\n",
       "      <td>14168.850000</td>\n",
       "      <td>October</td>\n",
       "    </tr>\n",
       "    <tr>\n",
       "      <th>30</th>\n",
       "      <td>2021-10-31</td>\n",
       "      <td>6958.250000</td>\n",
       "      <td>2949.22</td>\n",
       "      <td>5706.800000</td>\n",
       "      <td>738094</td>\n",
       "      <td>5688.919738</td>\n",
       "      <td>15614.270000</td>\n",
       "      <td>October</td>\n",
       "    </tr>\n",
       "  </tbody>\n",
       "</table>\n",
       "</div>"
      ],
      "text/plain": [
       "         date          CA1      CA2          CA0    greg    CA1 imput  \\\n",
       "0  2021-10-01  6530.990000  2752.09  6258.120000  738064  5630.711843   \n",
       "1  2021-10-02  5632.652106  1781.00  6450.520000  738065  5632.652106   \n",
       "2  2021-10-03  5634.592369  1827.13  6231.860000  738066  5634.592369   \n",
       "3  2021-10-04  5636.532632  2217.94  6189.785589  738067  5636.532632   \n",
       "4  2021-10-05  5638.472896  2920.56  6181.620000  738068  5638.472896   \n",
       "5  2021-10-06  5640.413159  1660.50  7014.930000  738069  5640.413159   \n",
       "6  2021-10-07  5642.353422  1715.08  5932.980000  738070  5642.353422   \n",
       "7  2021-10-08  5644.293685  2946.05  6552.440000  738071  5644.293685   \n",
       "8  2021-10-09  5646.233948  2268.30  6080.920000  738072  5646.233948   \n",
       "9  2021-10-10  5648.174211  2053.54  5911.370000  738073  5648.174211   \n",
       "10 2021-10-11  5650.114475  2932.21  6570.660000  738074  5650.114475   \n",
       "11 2021-10-12  5652.054738  1937.27  6321.250000  738075  5652.054738   \n",
       "12 2021-10-13  5653.995001  2579.83  6242.930000  738076  5653.995001   \n",
       "13 2021-10-14  5655.935264  2517.68  6036.470000  738077  5655.935264   \n",
       "14 2021-10-15  5657.875527  2512.41  6134.232795  738078  5657.875527   \n",
       "15 2021-10-16  5659.815790  3206.01  6222.320000  738079  5659.815790   \n",
       "16 2021-10-17  5661.756054  3015.77  6007.650000  738080  5661.756054   \n",
       "17 2021-10-18  5663.696317  2562.99  5795.060000  738081  5663.696317   \n",
       "18 2021-10-19  5665.636580  2020.38  5399.535589  738082  5665.636580   \n",
       "19 2021-10-20  5667.576843  2883.13  5426.402795  738083  5667.576843   \n",
       "20 2021-10-21  5669.517106  2941.01  6104.470000  738084  5669.517106   \n",
       "21 2021-10-22  5671.457370  1841.49  5646.980000  738085  5671.457370   \n",
       "22 2021-10-23  5673.397633  2731.85  5299.030000  738086  5673.397633   \n",
       "23 2021-10-24  5675.337896  3640.57  5618.870000  738087  5675.337896   \n",
       "24 2021-10-25  5677.278159  2200.23  5464.060000  738088  5677.278159   \n",
       "25 2021-10-26  5679.218422  1938.98  5958.082795  738089  5679.218422   \n",
       "26 2021-10-27  5681.158685  3845.90  5484.200000  738090  5681.158685   \n",
       "27 2021-10-28  5934.030000  2280.37  5470.220000  738091  5683.098949   \n",
       "28 2021-10-29  6061.820000  3504.56  5768.920000  738092  5685.039212   \n",
       "29 2021-10-30  6406.920000  2386.54  5375.390000  738093  5686.979475   \n",
       "30 2021-10-31  6958.250000  2949.22  5706.800000  738094  5688.919738   \n",
       "\n",
       "              CA    month  \n",
       "0   15541.200000  October  \n",
       "1   13864.172106  October  \n",
       "2   13693.582369  October  \n",
       "3   14044.258222  October  \n",
       "4   14740.652896  October  \n",
       "5   14315.843159  October  \n",
       "6   13290.413422  October  \n",
       "7   15142.783685  October  \n",
       "8   13995.453948  October  \n",
       "9   13613.084211  October  \n",
       "10  15152.984475  October  \n",
       "11  13910.574738  October  \n",
       "12  14476.755001  October  \n",
       "13  14210.085264  October  \n",
       "14  14304.518322  October  \n",
       "15  15088.145790  October  \n",
       "16  14685.176054  October  \n",
       "17  14021.746317  October  \n",
       "18  13085.552169  October  \n",
       "19  13977.109638  October  \n",
       "20  14714.997106  October  \n",
       "21  13159.927370  October  \n",
       "22  13704.277633  October  \n",
       "23  14934.777896  October  \n",
       "24  13341.568159  October  \n",
       "25  13576.281217  October  \n",
       "26  15011.258685  October  \n",
       "27  13684.620000  October  \n",
       "28  15335.300000  October  \n",
       "29  14168.850000  October  \n",
       "30  15614.270000  October  "
      ]
     },
     "execution_count": 49,
     "metadata": {},
     "output_type": "execute_result"
    }
   ],
   "source": [
    "vente_october['greg'] = vente_october['date'].map(dt.datetime.toordinal)\n",
    "vente_october['CA1 imput'] = vente_october['greg']*a+b\n",
    "vente_october.loc[vente_october['CA1'] == 0.00, 'CA1'] = vente_october['CA1 imput']\n",
    "vente_october['CA'] = vente_october['CA1'] + vente_october['CA2'] + vente_october['CA0']\n",
    "vente_october['month'] = vente_october['date'].dt.strftime('%B')\n",
    "vente_october"
   ]
  },
  {
   "cell_type": "code",
   "execution_count": 50,
   "metadata": {},
   "outputs": [
    {
     "data": {
      "text/html": [
       "<div>\n",
       "<style scoped>\n",
       "    .dataframe tbody tr th:only-of-type {\n",
       "        vertical-align: middle;\n",
       "    }\n",
       "\n",
       "    .dataframe tbody tr th {\n",
       "        vertical-align: top;\n",
       "    }\n",
       "\n",
       "    .dataframe thead th {\n",
       "        text-align: right;\n",
       "    }\n",
       "</style>\n",
       "<table border=\"1\" class=\"dataframe\">\n",
       "  <thead>\n",
       "    <tr style=\"text-align: right;\">\n",
       "      <th></th>\n",
       "      <th>month</th>\n",
       "      <th>CA</th>\n",
       "    </tr>\n",
       "  </thead>\n",
       "  <tbody>\n",
       "    <tr>\n",
       "      <th>0</th>\n",
       "      <td>October</td>\n",
       "      <td>442400.219851</td>\n",
       "    </tr>\n",
       "  </tbody>\n",
       "</table>\n",
       "</div>"
      ],
      "text/plain": [
       "     month             CA\n",
       "0  October  442400.219851"
      ]
     },
     "execution_count": 50,
     "metadata": {},
     "output_type": "execute_result"
    }
   ],
   "source": [
    "vdf_october = vente_october.groupby([\"month\"], as_index=False)[\"CA\"].sum()\n",
    "vdf_october"
   ]
  },
  {
   "cell_type": "code",
   "execution_count": 51,
   "metadata": {},
   "outputs": [
    {
     "name": "stdout",
     "output_type": "stream",
     "text": [
      "442400.21985087515\n"
     ]
    }
   ],
   "source": [
    "v_october = vente_october['CA'].sum()\n",
    "print(v_october)"
   ]
  },
  {
   "cell_type": "code",
   "execution_count": 52,
   "metadata": {},
   "outputs": [
    {
     "data": {
      "text/html": [
       "<div>\n",
       "<style scoped>\n",
       "    .dataframe tbody tr th:only-of-type {\n",
       "        vertical-align: middle;\n",
       "    }\n",
       "\n",
       "    .dataframe tbody tr th {\n",
       "        vertical-align: top;\n",
       "    }\n",
       "\n",
       "    .dataframe thead th {\n",
       "        text-align: right;\n",
       "    }\n",
       "</style>\n",
       "<table border=\"1\" class=\"dataframe\">\n",
       "  <thead>\n",
       "    <tr style=\"text-align: right;\">\n",
       "      <th></th>\n",
       "      <th>month</th>\n",
       "      <th>price</th>\n",
       "      <th>ordre</th>\n",
       "    </tr>\n",
       "  </thead>\n",
       "  <tbody>\n",
       "    <tr>\n",
       "      <th>7</th>\n",
       "      <td>March</td>\n",
       "      <td>443044.705152</td>\n",
       "      <td>1</td>\n",
       "    </tr>\n",
       "    <tr>\n",
       "      <th>0</th>\n",
       "      <td>April</td>\n",
       "      <td>436338.330741</td>\n",
       "      <td>2</td>\n",
       "    </tr>\n",
       "    <tr>\n",
       "      <th>8</th>\n",
       "      <td>May</td>\n",
       "      <td>451405.802357</td>\n",
       "      <td>3</td>\n",
       "    </tr>\n",
       "    <tr>\n",
       "      <th>6</th>\n",
       "      <td>June</td>\n",
       "      <td>444937.866768</td>\n",
       "      <td>4</td>\n",
       "    </tr>\n",
       "    <tr>\n",
       "      <th>5</th>\n",
       "      <td>July</td>\n",
       "      <td>445703.341178</td>\n",
       "      <td>5</td>\n",
       "    </tr>\n",
       "    <tr>\n",
       "      <th>1</th>\n",
       "      <td>August</td>\n",
       "      <td>443277.275152</td>\n",
       "      <td>6</td>\n",
       "    </tr>\n",
       "    <tr>\n",
       "      <th>11</th>\n",
       "      <td>September</td>\n",
       "      <td>466891.153535</td>\n",
       "      <td>7</td>\n",
       "    </tr>\n",
       "    <tr>\n",
       "      <th>10</th>\n",
       "      <td>October</td>\n",
       "      <td>442400.219851</td>\n",
       "      <td>8</td>\n",
       "    </tr>\n",
       "    <tr>\n",
       "      <th>9</th>\n",
       "      <td>November</td>\n",
       "      <td>475229.807946</td>\n",
       "      <td>9</td>\n",
       "    </tr>\n",
       "    <tr>\n",
       "      <th>2</th>\n",
       "      <td>December</td>\n",
       "      <td>484825.929562</td>\n",
       "      <td>10</td>\n",
       "    </tr>\n",
       "    <tr>\n",
       "      <th>4</th>\n",
       "      <td>January</td>\n",
       "      <td>486634.043973</td>\n",
       "      <td>11</td>\n",
       "    </tr>\n",
       "    <tr>\n",
       "      <th>3</th>\n",
       "      <td>February</td>\n",
       "      <td>490225.570741</td>\n",
       "      <td>12</td>\n",
       "    </tr>\n",
       "  </tbody>\n",
       "</table>\n",
       "</div>"
      ],
      "text/plain": [
       "        month          price  ordre\n",
       "7       March  443044.705152      1\n",
       "0       April  436338.330741      2\n",
       "8         May  451405.802357      3\n",
       "6        June  444937.866768      4\n",
       "5        July  445703.341178      5\n",
       "1      August  443277.275152      6\n",
       "11  September  466891.153535      7\n",
       "10    October  442400.219851      8\n",
       "9    November  475229.807946      9\n",
       "2    December  484825.929562     10\n",
       "4     January  486634.043973     11\n",
       "3    February  490225.570741     12"
      ]
     },
     "execution_count": 52,
     "metadata": {},
     "output_type": "execute_result"
    }
   ],
   "source": [
    "CA_month.loc[CA_month['month'] == 'October', 'price'] = v_october\n",
    "CA_month"
   ]
  },
  {
   "cell_type": "code",
   "execution_count": 53,
   "metadata": {},
   "outputs": [
    {
     "data": {
      "image/png": "[encoded data removed]",
      "text/plain": [
       "<Figure size 576x432 with 1 Axes>"
      ]
     },
     "metadata": {
      "needs_background": "light"
     },
     "output_type": "display_data"
    }
   ],
   "source": [
    "CA_month.plot(x = 'month', y=['price'],figsize=(8, 6), color='green', title = 'CA par mois', fontsize=12)\n",
    "plt.show()"
   ]
  },
  {
   "cell_type": "markdown",
   "metadata": {},
   "source": [
    "Le CA par mois connait un pic en semptembre que l'on peut associer à la rentrée des classes puis il croit jusqu'à la fin de la période de référence\n"
   ]
  },
  {
   "cell_type": "markdown",
   "metadata": {},
   "source": [
    "## III. Mission n° 3 <a class=\"anchor\" id=\"section_3\"></a>"
   ]
  },
  {
   "cell_type": "markdown",
   "metadata": {},
   "source": [
    "### 1) Corrélation entre le sexe des clients et les catégories de produits achetés <a class=\"anchor\" id=\"section_3_1\"></a>"
   ]
  },
  {
   "cell_type": "code",
   "execution_count": 54,
   "metadata": {},
   "outputs": [
    {
     "data": {
      "text/html": [
       "<div>\n",
       "<style scoped>\n",
       "    .dataframe tbody tr th:only-of-type {\n",
       "        vertical-align: middle;\n",
       "    }\n",
       "\n",
       "    .dataframe tbody tr th {\n",
       "        vertical-align: top;\n",
       "    }\n",
       "\n",
       "    .dataframe thead th {\n",
       "        text-align: right;\n",
       "    }\n",
       "</style>\n",
       "<table border=\"1\" class=\"dataframe\">\n",
       "  <thead>\n",
       "    <tr style=\"text-align: right;\">\n",
       "      <th>categ</th>\n",
       "      <th>0</th>\n",
       "      <th>1</th>\n",
       "      <th>2</th>\n",
       "      <th>Total</th>\n",
       "    </tr>\n",
       "    <tr>\n",
       "      <th>sex</th>\n",
       "      <th></th>\n",
       "      <th></th>\n",
       "      <th></th>\n",
       "      <th></th>\n",
       "    </tr>\n",
       "  </thead>\n",
       "  <tbody>\n",
       "    <tr>\n",
       "      <th>f</th>\n",
       "      <td>101206</td>\n",
       "      <td>53774</td>\n",
       "      <td>8122</td>\n",
       "      <td>163102</td>\n",
       "    </tr>\n",
       "    <tr>\n",
       "      <th>m</th>\n",
       "      <td>94064</td>\n",
       "      <td>48851</td>\n",
       "      <td>7634</td>\n",
       "      <td>150549</td>\n",
       "    </tr>\n",
       "    <tr>\n",
       "      <th>Total</th>\n",
       "      <td>195270</td>\n",
       "      <td>102625</td>\n",
       "      <td>15756</td>\n",
       "      <td>313651</td>\n",
       "    </tr>\n",
       "  </tbody>\n",
       "</table>\n",
       "</div>"
      ],
      "text/plain": [
       "categ       0       1      2   Total\n",
       "sex                                 \n",
       "f      101206   53774   8122  163102\n",
       "m       94064   48851   7634  150549\n",
       "Total  195270  102625  15756  313651"
      ]
     },
     "execution_count": 54,
     "metadata": {},
     "output_type": "execute_result"
    }
   ],
   "source": [
    "X = \"sex\"\n",
    "Y = \"categ\"\n",
    "cont = info_id[[X,Y]].pivot_table(index=X,columns=Y,aggfunc=len,margins=True,margins_name=\"Total\")\n",
    "cont"
   ]
  },
  {
   "cell_type": "code",
   "execution_count": 55,
   "metadata": {},
   "outputs": [
    {
     "data": {
      "text/html": [
       "<div>\n",
       "<style scoped>\n",
       "    .dataframe tbody tr th:only-of-type {\n",
       "        vertical-align: middle;\n",
       "    }\n",
       "\n",
       "    .dataframe tbody tr th {\n",
       "        vertical-align: top;\n",
       "    }\n",
       "\n",
       "    .dataframe thead th {\n",
       "        text-align: right;\n",
       "    }\n",
       "</style>\n",
       "<table border=\"1\" class=\"dataframe\">\n",
       "  <thead>\n",
       "    <tr style=\"text-align: right;\">\n",
       "      <th>categ</th>\n",
       "      <th>0</th>\n",
       "      <th>1</th>\n",
       "      <th>2</th>\n",
       "      <th>Total</th>\n",
       "    </tr>\n",
       "    <tr>\n",
       "      <th>sex</th>\n",
       "      <th></th>\n",
       "      <th></th>\n",
       "      <th></th>\n",
       "      <th></th>\n",
       "    </tr>\n",
       "  </thead>\n",
       "  <tbody>\n",
       "    <tr>\n",
       "      <th>f</th>\n",
       "      <td>101542</td>\n",
       "      <td>53366</td>\n",
       "      <td>8193</td>\n",
       "      <td>163102</td>\n",
       "    </tr>\n",
       "    <tr>\n",
       "      <th>m</th>\n",
       "      <td>93727</td>\n",
       "      <td>49258</td>\n",
       "      <td>7562</td>\n",
       "      <td>150549</td>\n",
       "    </tr>\n",
       "    <tr>\n",
       "      <th>Total</th>\n",
       "      <td>195270</td>\n",
       "      <td>102625</td>\n",
       "      <td>15756</td>\n",
       "      <td>313651</td>\n",
       "    </tr>\n",
       "  </tbody>\n",
       "</table>\n",
       "</div>"
      ],
      "text/plain": [
       "categ       0       1      2   Total\n",
       "sex                                 \n",
       "f      101542   53366   8193  163102\n",
       "m       93727   49258   7562  150549\n",
       "Total  195270  102625  15756  313651"
      ]
     },
     "execution_count": 55,
     "metadata": {},
     "output_type": "execute_result"
    }
   ],
   "source": [
    "tx = cont.loc[:,[\"Total\"]]\n",
    "ty = cont.loc[[\"Total\"],:]\n",
    "n = len(info_id)\n",
    "indep = tx.dot(ty) / n\n",
    "indep[0] = indep[0].astype(int)\n",
    "indep[1] = indep[1].astype(int)\n",
    "indep[2] = indep[2].astype(int)\n",
    "indep['Total'] = indep['Total'].astype(int)\n",
    "indep"
   ]
  },
  {
   "cell_type": "markdown",
   "metadata": {},
   "source": [
    "#### Heat map"
   ]
  },
  {
   "cell_type": "code",
   "execution_count": 56,
   "metadata": {},
   "outputs": [
    {
     "data": {
      "image/png": "[encoded data removed]",
      "text/plain": [
       "<Figure size 576x432 with 2 Axes>"
      ]
     },
     "metadata": {
      "needs_background": "light"
     },
     "output_type": "display_data"
    }
   ],
   "source": [
    "plt.figure(figsize=(8, 6))\n",
    "plt.title('Heat Map - Sexe des clients et catégories de produits achetés',fontsize=14) \n",
    "measure = (cont-indep)**2/indep\n",
    "xi_n = measure.sum().sum()\n",
    "table = measure/xi_n\n",
    "sns.heatmap(table.iloc[:-1,:-1],annot=cont.iloc[:-1,:-1])\n",
    "plt.show()"
   ]
  },
  {
   "cell_type": "markdown",
   "metadata": {},
   "source": [
    "Grace au tableau de contingence coloré, nous pouvons constater que les cases les plus foncées sont source de non-indépendance : C'est à dire la catégorie 2 et 0 "
   ]
  },
  {
   "cell_type": "markdown",
   "metadata": {},
   "source": [
    "### 2) Corrélation entre l'âge des clients et... <a class=\"anchor\" id=\"section_3_2\"></a>"
   ]
  },
  {
   "cell_type": "markdown",
   "metadata": {},
   "source": [
    "#### a. Le montant total des achats <a class=\"anchor\" id=\"section_3_2_1\"></a>"
   ]
  },
  {
   "cell_type": "code",
   "execution_count": 57,
   "metadata": {},
   "outputs": [
    {
     "data": {
      "text/html": [
       "<div>\n",
       "<style scoped>\n",
       "    .dataframe tbody tr th:only-of-type {\n",
       "        vertical-align: middle;\n",
       "    }\n",
       "\n",
       "    .dataframe tbody tr th {\n",
       "        vertical-align: top;\n",
       "    }\n",
       "\n",
       "    .dataframe thead th {\n",
       "        text-align: right;\n",
       "    }\n",
       "</style>\n",
       "<table border=\"1\" class=\"dataframe\">\n",
       "  <thead>\n",
       "    <tr style=\"text-align: right;\">\n",
       "      <th></th>\n",
       "      <th>age</th>\n",
       "      <th>price</th>\n",
       "    </tr>\n",
       "  </thead>\n",
       "  <tbody>\n",
       "    <tr>\n",
       "      <th>0</th>\n",
       "      <td>17.0</td>\n",
       "      <td>70.681325</td>\n",
       "    </tr>\n",
       "    <tr>\n",
       "      <th>1</th>\n",
       "      <td>18.0</td>\n",
       "      <td>69.917599</td>\n",
       "    </tr>\n",
       "    <tr>\n",
       "      <th>2</th>\n",
       "      <td>19.0</td>\n",
       "      <td>71.216944</td>\n",
       "    </tr>\n",
       "    <tr>\n",
       "      <th>3</th>\n",
       "      <td>20.0</td>\n",
       "      <td>70.460599</td>\n",
       "    </tr>\n",
       "    <tr>\n",
       "      <th>4</th>\n",
       "      <td>21.0</td>\n",
       "      <td>67.788733</td>\n",
       "    </tr>\n",
       "    <tr>\n",
       "      <th>...</th>\n",
       "      <td>...</td>\n",
       "      <td>...</td>\n",
       "    </tr>\n",
       "    <tr>\n",
       "      <th>72</th>\n",
       "      <td>89.0</td>\n",
       "      <td>25.329912</td>\n",
       "    </tr>\n",
       "    <tr>\n",
       "      <th>73</th>\n",
       "      <td>90.0</td>\n",
       "      <td>27.294098</td>\n",
       "    </tr>\n",
       "    <tr>\n",
       "      <th>74</th>\n",
       "      <td>91.0</td>\n",
       "      <td>30.165333</td>\n",
       "    </tr>\n",
       "    <tr>\n",
       "      <th>75</th>\n",
       "      <td>92.0</td>\n",
       "      <td>20.184394</td>\n",
       "    </tr>\n",
       "    <tr>\n",
       "      <th>76</th>\n",
       "      <td>93.0</td>\n",
       "      <td>24.180625</td>\n",
       "    </tr>\n",
       "  </tbody>\n",
       "</table>\n",
       "<p>77 rows × 2 columns</p>\n",
       "</div>"
      ],
      "text/plain": [
       "     age      price\n",
       "0   17.0  70.681325\n",
       "1   18.0  69.917599\n",
       "2   19.0  71.216944\n",
       "3   20.0  70.460599\n",
       "4   21.0  67.788733\n",
       "..   ...        ...\n",
       "72  89.0  25.329912\n",
       "73  90.0  27.294098\n",
       "74  91.0  30.165333\n",
       "75  92.0  20.184394\n",
       "76  93.0  24.180625\n",
       "\n",
       "[77 rows x 2 columns]"
      ]
     },
     "execution_count": 57,
     "metadata": {},
     "output_type": "execute_result"
    }
   ],
   "source": [
    "total_age = info_id.loc[:,[\"session_id\",'age']]\n",
    "total_age = pd.merge(total_age, panier_moyen, on='session_id', how='right')\n",
    "total_age = total_age.drop_duplicates(['session_id'])\n",
    "total_age = total_age.groupby([\"age\"], as_index=False)['price'].mean()\n",
    "total_age"
   ]
  },
  {
   "cell_type": "code",
   "execution_count": 58,
   "metadata": {},
   "outputs": [
    {
     "data": {
      "image/png": "[encoded data removed]",
      "text/plain": [
       "<Figure size 576x432 with 1 Axes>"
      ]
     },
     "metadata": {
      "needs_background": "light"
     },
     "output_type": "display_data"
    }
   ],
   "source": [
    "Y = total_age['price']\n",
    "X = total_age[['age']]\n",
    "X = X.copy() # On modifiera X, on en crée donc une cop\n",
    "X['intercept'] = 1.\n",
    "result = sm.OLS(Y, X).fit() # OLS = Ordinary Least Square (Moindres Carrés Ordinaire)\n",
    "a,b = result.params['age'],result.params['intercept']\n",
    "plt.figure(figsize=(8, 6))\n",
    "plt.title(\"Régression linéaire panier moyen\",fontsize=14) \n",
    "plt.plot(total_age.age,total_age.price, \"o\")\n",
    "plt.plot(np.arange(17,92),[a*x+b for x in np.arange(17,92)])\n",
    "plt.xlabel(\"age\")\n",
    "plt.ylabel(\"price\")\n",
    "plt.show()"
   ]
  },
  {
   "cell_type": "code",
   "execution_count": 59,
   "metadata": {},
   "outputs": [
    {
     "data": {
      "image/png": "[encoded data removed]",
      "text/plain": [
       "<Figure size 576x432 with 1 Axes>"
      ]
     },
     "metadata": {
      "needs_background": "light"
     },
     "output_type": "display_data"
    }
   ],
   "source": [
    "total_age.plot(x = 'age', y=['price'],figsize=(8, 6), color='green', title = 'Prix du panier moyen selon age', fontsize=12)\n",
    "plt.show()"
   ]
  },
  {
   "cell_type": "code",
   "execution_count": 60,
   "metadata": {},
   "outputs": [
    {
     "name": "stdout",
     "output_type": "stream",
     "text": [
      "-0.7470782975459913\n",
      "-280.26076188565355\n"
     ]
    }
   ],
   "source": [
    "print(st.pearsonr(total_age[\"age\"],total_age[\"price\"])[0])\n",
    "print(np.cov(total_age[\"age\"],total_age[\"price\"],ddof=0)[1,0])"
   ]
  },
  {
   "cell_type": "markdown",
   "metadata": {},
   "source": [
    "Le coefficient de corrélation ou coefficient de Pearson est proche de 1 donc la relation linéaire entre les variables montant total des achats et âge est forte. Nous pouvons constater le prix du panier moyen décroit selon l'âge. On pourrait imaginer qu'un étudiant dépense plus qu'une personne active ou qu'il existe un programme de fidelité pour les moins de 30 ans. "
   ]
  },
  {
   "cell_type": "markdown",
   "metadata": {},
   "source": [
    "#### b. La fréquence d’achat (ie. nombre d'achats par mois par exemple) <a class=\"anchor\" id=\"section_3_2_2\"></a>"
   ]
  },
  {
   "cell_type": "code",
   "execution_count": 61,
   "metadata": {},
   "outputs": [
    {
     "data": {
      "text/html": [
       "<div>\n",
       "<style scoped>\n",
       "    .dataframe tbody tr th:only-of-type {\n",
       "        vertical-align: middle;\n",
       "    }\n",
       "\n",
       "    .dataframe tbody tr th {\n",
       "        vertical-align: top;\n",
       "    }\n",
       "\n",
       "    .dataframe thead th {\n",
       "        text-align: right;\n",
       "    }\n",
       "</style>\n",
       "<table border=\"1\" class=\"dataframe\">\n",
       "  <thead>\n",
       "    <tr style=\"text-align: right;\">\n",
       "      <th></th>\n",
       "      <th>age</th>\n",
       "      <th>Total</th>\n",
       "    </tr>\n",
       "  </thead>\n",
       "  <tbody>\n",
       "    <tr>\n",
       "      <th>0</th>\n",
       "      <td>17.0</td>\n",
       "      <td>2.700414</td>\n",
       "    </tr>\n",
       "    <tr>\n",
       "      <th>1</th>\n",
       "      <td>18.0</td>\n",
       "      <td>2.633675</td>\n",
       "    </tr>\n",
       "    <tr>\n",
       "      <th>2</th>\n",
       "      <td>19.0</td>\n",
       "      <td>2.600170</td>\n",
       "    </tr>\n",
       "    <tr>\n",
       "      <th>3</th>\n",
       "      <td>20.0</td>\n",
       "      <td>2.661991</td>\n",
       "    </tr>\n",
       "    <tr>\n",
       "      <th>4</th>\n",
       "      <td>21.0</td>\n",
       "      <td>2.782831</td>\n",
       "    </tr>\n",
       "    <tr>\n",
       "      <th>...</th>\n",
       "      <td>...</td>\n",
       "      <td>...</td>\n",
       "    </tr>\n",
       "    <tr>\n",
       "      <th>71</th>\n",
       "      <td>88.0</td>\n",
       "      <td>3.023611</td>\n",
       "    </tr>\n",
       "    <tr>\n",
       "      <th>72</th>\n",
       "      <td>89.0</td>\n",
       "      <td>3.425000</td>\n",
       "    </tr>\n",
       "    <tr>\n",
       "      <th>73</th>\n",
       "      <td>90.0</td>\n",
       "      <td>2.875000</td>\n",
       "    </tr>\n",
       "    <tr>\n",
       "      <th>74</th>\n",
       "      <td>91.0</td>\n",
       "      <td>4.812500</td>\n",
       "    </tr>\n",
       "    <tr>\n",
       "      <th>75</th>\n",
       "      <td>92.0</td>\n",
       "      <td>2.958333</td>\n",
       "    </tr>\n",
       "  </tbody>\n",
       "</table>\n",
       "<p>76 rows × 2 columns</p>\n",
       "</div>"
      ],
      "text/plain": [
       "     age     Total\n",
       "0   17.0  2.700414\n",
       "1   18.0  2.633675\n",
       "2   19.0  2.600170\n",
       "3   20.0  2.661991\n",
       "4   21.0  2.782831\n",
       "..   ...       ...\n",
       "71  88.0  3.023611\n",
       "72  89.0  3.425000\n",
       "73  90.0  2.875000\n",
       "74  91.0  4.812500\n",
       "75  92.0  2.958333\n",
       "\n",
       "[76 rows x 2 columns]"
      ]
     },
     "execution_count": 61,
     "metadata": {},
     "output_type": "execute_result"
    }
   ],
   "source": [
    "frequence_age = info_id[['client_id','month']].pivot_table(index='client_id',columns='month',aggfunc=len)\n",
    "age = info_id.loc[:,['client_id','age']]\n",
    "frequence_age = pd.merge(age,frequence_age, on='client_id', how='right')\n",
    "frequence_age = frequence_age.drop_duplicates(['client_id'])\n",
    "frequence_age = frequence_age.groupby([\"age\"], as_index=False).mean()\n",
    "frequence_age['Total'] = frequence_age.loc[:,['April','August','December','February','January','July','June','March','May','November','October','September']].sum(axis=1)/12\n",
    "frequence_age = frequence_age.loc[:,['age','Total']]\n",
    "frequence_age"
   ]
  },
  {
   "cell_type": "code",
   "execution_count": 62,
   "metadata": {},
   "outputs": [
    {
     "data": {
      "image/png": "[encoded data removed]",
      "text/plain": [
       "<Figure size 576x432 with 1 Axes>"
      ]
     },
     "metadata": {
      "needs_background": "light"
     },
     "output_type": "display_data"
    }
   ],
   "source": [
    "frequence_age.plot(figsize=(8, 6), x='age', y= 'Total', kind = 'scatter')\n",
    "plt.show()"
   ]
  },
  {
   "cell_type": "markdown",
   "metadata": {},
   "source": [
    "##### Coefficient de Pearson"
   ]
  },
  {
   "cell_type": "code",
   "execution_count": 63,
   "metadata": {},
   "outputs": [
    {
     "name": "stdout",
     "output_type": "stream",
     "text": [
      "-0.27991075646524255\n"
     ]
    }
   ],
   "source": [
    "print(st.pearsonr(frequence_age[\"age\"],frequence_age[\"Total\"])[0])"
   ]
  },
  {
   "cell_type": "markdown",
   "metadata": {},
   "source": [
    "Le coefficient de corrélation ou coefficient de Pearson est proche de 0 donc la relation linéaire entre les variables fréquence d'achat et âge est faible\n"
   ]
  },
  {
   "cell_type": "markdown",
   "metadata": {},
   "source": [
    "##### Regression linéaire"
   ]
  },
  {
   "cell_type": "code",
   "execution_count": 64,
   "metadata": {},
   "outputs": [
    {
     "data": {
      "image/png": "[encoded data removed]",
      "text/plain": [
       "<Figure size 576x432 with 1 Axes>"
      ]
     },
     "metadata": {
      "needs_background": "light"
     },
     "output_type": "display_data"
    }
   ],
   "source": [
    "Y = frequence_age['Total']\n",
    "X = frequence_age[['age']]\n",
    "X = X.copy() # On modifiera X, on en crée donc une cop\n",
    "X['intercept'] = 1.\n",
    "result = sm.OLS(Y, X).fit() # OLS = Ordinary Least Square (Moindres Carrés Ordinaire)\n",
    "a,b = result.params['age'],result.params['intercept']\n",
    "plt.figure(figsize=(8, 6))\n",
    "plt.title(\"Régression linéaire fréquence d'achat\",fontsize=14) \n",
    "plt.plot(frequence_age.age,frequence_age.Total, \"o\")\n",
    "plt.plot(np.arange(17,92),[a*x+b for x in np.arange(17,92)])\n",
    "plt.xlabel(\"age\")\n",
    "plt.ylabel(\"Total\")\n",
    "plt.show()"
   ]
  },
  {
   "cell_type": "markdown",
   "metadata": {},
   "source": [
    "##### Coefficient de correlation "
   ]
  },
  {
   "cell_type": "code",
   "execution_count": 65,
   "metadata": {},
   "outputs": [
    {
     "data": {
      "text/plain": [
       "-0.01895071309709362"
      ]
     },
     "execution_count": 65,
     "metadata": {},
     "output_type": "execute_result"
    }
   ],
   "source": [
    "a"
   ]
  },
  {
   "cell_type": "markdown",
   "metadata": {},
   "source": [
    "##### Ordonnée à l'origine"
   ]
  },
  {
   "cell_type": "code",
   "execution_count": 66,
   "metadata": {},
   "outputs": [
    {
     "data": {
      "text/plain": [
       "5.062557813419706"
      ]
     },
     "execution_count": 66,
     "metadata": {},
     "output_type": "execute_result"
    }
   ],
   "source": [
    "b"
   ]
  },
  {
   "cell_type": "markdown",
   "metadata": {},
   "source": [
    "#### c. La taille du panier moyen (en nombre d’articles) <a class=\"anchor\" id=\"section_3_2_3\"></a>"
   ]
  },
  {
   "cell_type": "code",
   "execution_count": 67,
   "metadata": {},
   "outputs": [
    {
     "data": {
      "text/html": [
       "<div>\n",
       "<style scoped>\n",
       "    .dataframe tbody tr th:only-of-type {\n",
       "        vertical-align: middle;\n",
       "    }\n",
       "\n",
       "    .dataframe tbody tr th {\n",
       "        vertical-align: top;\n",
       "    }\n",
       "\n",
       "    .dataframe thead th {\n",
       "        text-align: right;\n",
       "    }\n",
       "</style>\n",
       "<table border=\"1\" class=\"dataframe\">\n",
       "  <thead>\n",
       "    <tr style=\"text-align: right;\">\n",
       "      <th></th>\n",
       "      <th>age</th>\n",
       "      <th>Total</th>\n",
       "    </tr>\n",
       "  </thead>\n",
       "  <tbody>\n",
       "    <tr>\n",
       "      <th>0</th>\n",
       "      <td>17.0</td>\n",
       "      <td>1.768779</td>\n",
       "    </tr>\n",
       "    <tr>\n",
       "      <th>1</th>\n",
       "      <td>18.0</td>\n",
       "      <td>1.712877</td>\n",
       "    </tr>\n",
       "    <tr>\n",
       "      <th>2</th>\n",
       "      <td>19.0</td>\n",
       "      <td>1.784660</td>\n",
       "    </tr>\n",
       "    <tr>\n",
       "      <th>3</th>\n",
       "      <td>20.0</td>\n",
       "      <td>1.746086</td>\n",
       "    </tr>\n",
       "    <tr>\n",
       "      <th>4</th>\n",
       "      <td>21.0</td>\n",
       "      <td>1.852153</td>\n",
       "    </tr>\n",
       "    <tr>\n",
       "      <th>...</th>\n",
       "      <td>...</td>\n",
       "      <td>...</td>\n",
       "    </tr>\n",
       "    <tr>\n",
       "      <th>71</th>\n",
       "      <td>88.0</td>\n",
       "      <td>1.404762</td>\n",
       "    </tr>\n",
       "    <tr>\n",
       "      <th>72</th>\n",
       "      <td>89.0</td>\n",
       "      <td>1.570652</td>\n",
       "    </tr>\n",
       "    <tr>\n",
       "      <th>73</th>\n",
       "      <td>90.0</td>\n",
       "      <td>1.821429</td>\n",
       "    </tr>\n",
       "    <tr>\n",
       "      <th>74</th>\n",
       "      <td>91.0</td>\n",
       "      <td>1.686567</td>\n",
       "    </tr>\n",
       "    <tr>\n",
       "      <th>75</th>\n",
       "      <td>92.0</td>\n",
       "      <td>1.431034</td>\n",
       "    </tr>\n",
       "  </tbody>\n",
       "</table>\n",
       "<p>76 rows × 2 columns</p>\n",
       "</div>"
      ],
      "text/plain": [
       "     age     Total\n",
       "0   17.0  1.768779\n",
       "1   18.0  1.712877\n",
       "2   19.0  1.784660\n",
       "3   20.0  1.746086\n",
       "4   21.0  1.852153\n",
       "..   ...       ...\n",
       "71  88.0  1.404762\n",
       "72  89.0  1.570652\n",
       "73  90.0  1.821429\n",
       "74  91.0  1.686567\n",
       "75  92.0  1.431034\n",
       "\n",
       "[76 rows x 2 columns]"
      ]
     },
     "execution_count": 67,
     "metadata": {},
     "output_type": "execute_result"
    }
   ],
   "source": [
    "taille_panier = info_id[['client_id','date']].pivot_table(index=['client_id'],columns='date',aggfunc=len)\n",
    "taille_panier = pd.merge(age,taille_panier, on='client_id', how='right')\n",
    "taille_panier = taille_panier.drop_duplicates(['client_id'])\n",
    "taille_panier = taille_panier.groupby([\"age\"], as_index=False).mean()\n",
    "taille_panier = taille_panier.set_index('age')\n",
    "taille_panier['Total'] = taille_panier.mean(axis=1)\n",
    "taille_panier = taille_panier.reset_index('age')\n",
    "taille_panier = taille_panier.fillna(value = 0)\n",
    "taille_panier = taille_panier.loc[:,['age','Total']]\n",
    "taille_panier"
   ]
  },
  {
   "cell_type": "code",
   "execution_count": 68,
   "metadata": {},
   "outputs": [
    {
     "data": {
      "image/png": "[encoded data removed]",
      "text/plain": [
       "<Figure size 576x432 with 1 Axes>"
      ]
     },
     "metadata": {
      "needs_background": "light"
     },
     "output_type": "display_data"
    }
   ],
   "source": [
    "taille_panier.plot(figsize=(8, 6), x='age', y= 'Total', kind = 'scatter')\n",
    "plt.show()"
   ]
  },
  {
   "cell_type": "code",
   "execution_count": 69,
   "metadata": {},
   "outputs": [
    {
     "data": {
      "image/png": "[encoded data removed]",
      "text/plain": [
       "<Figure size 576x432 with 1 Axes>"
      ]
     },
     "metadata": {
      "needs_background": "light"
     },
     "output_type": "display_data"
    }
   ],
   "source": [
    "Y = taille_panier['Total']\n",
    "X = taille_panier[['age']]\n",
    "X = X.copy() # On modifiera X, on en crée donc une cop\n",
    "X['intercept'] = 1.\n",
    "result = sm.OLS(Y, X).fit() # OLS = Ordinary Least Square (Moindres Carrés Ordinaire)\n",
    "a,b = result.params['age'],result.params['intercept']\n",
    "plt.figure(figsize=(8, 6))\n",
    "plt.title('Régression linéaire taille panier moyen',fontsize=14) \n",
    "plt.plot(taille_panier.age,taille_panier.Total, \"o\")\n",
    "plt.plot(np.arange(17,92),[a*x+b for x in np.arange(17,92)])\n",
    "plt.xlabel(\"age\")\n",
    "plt.ylabel(\"Total\")\n",
    "plt.show()"
   ]
  },
  {
   "cell_type": "markdown",
   "metadata": {},
   "source": [
    "##### Coefficient de correlation "
   ]
  },
  {
   "cell_type": "code",
   "execution_count": 75,
   "metadata": {},
   "outputs": [
    {
     "name": "stdout",
     "output_type": "stream",
     "text": [
      "-0.5692241564349062\n"
     ]
    }
   ],
   "source": [
    "print(st.pearsonr(taille_panier[\"age\"],taille_panier[\"Total\"])[0])"
   ]
  },
  {
   "cell_type": "markdown",
   "metadata": {},
   "source": [
    "Le coefficient de corrélation ou coefficient de Pearson est proche de 1 on peut établir une relation linéaire entre les variables taille du panier moyen et âge est faible"
   ]
  },
  {
   "cell_type": "markdown",
   "metadata": {},
   "source": [
    "##### Ordonnée à l'origine"
   ]
  },
  {
   "cell_type": "code",
   "execution_count": 71,
   "metadata": {},
   "outputs": [
    {
     "data": {
      "text/plain": [
       "2.416038933596678"
      ]
     },
     "execution_count": 71,
     "metadata": {},
     "output_type": "execute_result"
    }
   ],
   "source": [
    "b"
   ]
  },
  {
   "cell_type": "markdown",
   "metadata": {},
   "source": [
    "#### d. Les catégories de produits achetés <a class=\"anchor\" id=\"section_3_2_4\"></a>"
   ]
  },
  {
   "cell_type": "code",
   "execution_count": 72,
   "metadata": {},
   "outputs": [
    {
     "data": {
      "text/html": [
       "<div>\n",
       "<style scoped>\n",
       "    .dataframe tbody tr th:only-of-type {\n",
       "        vertical-align: middle;\n",
       "    }\n",
       "\n",
       "    .dataframe tbody tr th {\n",
       "        vertical-align: top;\n",
       "    }\n",
       "\n",
       "    .dataframe thead th {\n",
       "        text-align: right;\n",
       "    }\n",
       "</style>\n",
       "<table border=\"1\" class=\"dataframe\">\n",
       "  <thead>\n",
       "    <tr style=\"text-align: right;\">\n",
       "      <th></th>\n",
       "      <th>categ</th>\n",
       "      <th>age</th>\n",
       "    </tr>\n",
       "  </thead>\n",
       "  <tbody>\n",
       "    <tr>\n",
       "      <th>0</th>\n",
       "      <td>0</td>\n",
       "      <td>45.0</td>\n",
       "    </tr>\n",
       "    <tr>\n",
       "      <th>1</th>\n",
       "      <td>0</td>\n",
       "      <td>35.0</td>\n",
       "    </tr>\n",
       "    <tr>\n",
       "      <th>2</th>\n",
       "      <td>0</td>\n",
       "      <td>32.0</td>\n",
       "    </tr>\n",
       "    <tr>\n",
       "      <th>3</th>\n",
       "      <td>0</td>\n",
       "      <td>41.0</td>\n",
       "    </tr>\n",
       "    <tr>\n",
       "      <th>4</th>\n",
       "      <td>0</td>\n",
       "      <td>45.0</td>\n",
       "    </tr>\n",
       "    <tr>\n",
       "      <th>...</th>\n",
       "      <td>...</td>\n",
       "      <td>...</td>\n",
       "    </tr>\n",
       "    <tr>\n",
       "      <th>336811</th>\n",
       "      <td>1</td>\n",
       "      <td>50.0</td>\n",
       "    </tr>\n",
       "    <tr>\n",
       "      <th>336812</th>\n",
       "      <td>1</td>\n",
       "      <td>34.0</td>\n",
       "    </tr>\n",
       "    <tr>\n",
       "      <th>336813</th>\n",
       "      <td>1</td>\n",
       "      <td>72.0</td>\n",
       "    </tr>\n",
       "    <tr>\n",
       "      <th>336814</th>\n",
       "      <td>0</td>\n",
       "      <td>56.0</td>\n",
       "    </tr>\n",
       "    <tr>\n",
       "      <th>336815</th>\n",
       "      <td>0</td>\n",
       "      <td>41.0</td>\n",
       "    </tr>\n",
       "  </tbody>\n",
       "</table>\n",
       "<p>313651 rows × 2 columns</p>\n",
       "</div>"
      ],
      "text/plain": [
       "        categ   age\n",
       "0           0  45.0\n",
       "1           0  35.0\n",
       "2           0  32.0\n",
       "3           0  41.0\n",
       "4           0  45.0\n",
       "...       ...   ...\n",
       "336811      1  50.0\n",
       "336812      1  34.0\n",
       "336813      1  72.0\n",
       "336814      0  56.0\n",
       "336815      0  41.0\n",
       "\n",
       "[313651 rows x 2 columns]"
      ]
     },
     "execution_count": 72,
     "metadata": {},
     "output_type": "execute_result"
    }
   ],
   "source": [
    "age_categ = info_id[['categ','age']]\n",
    "age_categ"
   ]
  },
  {
   "cell_type": "code",
   "execution_count": 73,
   "metadata": {},
   "outputs": [
    {
     "data": {
      "image/png": "[encoded data removed]",
      "text/plain": [
       "<Figure size 576x432 with 1 Axes>"
      ]
     },
     "metadata": {
      "needs_background": "light"
     },
     "output_type": "display_data"
    }
   ],
   "source": [
    "X = \"categ\" # qualitative\n",
    "Y = \"age\" # quantitative\n",
    "\n",
    "modalites = age_categ[X].unique()\n",
    "groupes = []\n",
    "for m in modalites:\n",
    "    groupes.append(age_categ[age_categ[X]==m][Y])\n",
    "\n",
    "\n",
    "medianprops = {'color':\"DarkBlue\"}\n",
    "meanprops = {'marker':'o', 'markeredgecolor':'Green',\n",
    "            'markerfacecolor':'coral'}\n",
    "plt.figure(figsize=(8, 6))\n",
    "plt.title('Âge des clients selon catégorie',fontsize=14) \n",
    "plt.boxplot(groupes, labels=modalites, showfliers=False, medianprops=medianprops, \n",
    "            vert=True, patch_artist=True, showmeans=True, meanprops=meanprops)\n",
    "plt.show()"
   ]
  },
  {
   "cell_type": "code",
   "execution_count": 74,
   "metadata": {},
   "outputs": [
    {
     "data": {
      "text/plain": [
       "0.113073637193239"
      ]
     },
     "execution_count": 74,
     "metadata": {},
     "output_type": "execute_result"
    }
   ],
   "source": [
    "X = \"categ\" # qualitative\n",
    "Y = \"age\" # quantitative\n",
    "\n",
    "def eta_squared(x,y):\n",
    "    moyenne_y = y.mean()\n",
    "    classes = []\n",
    "    for classe in x.unique():\n",
    "        yi_classe = y[x==classe]\n",
    "        classes.append({'ni': len(yi_classe),\n",
    "                        'moyenne_classe': yi_classe.mean()})\n",
    "    SCT = sum([(yj-moyenne_y)**2 for yj in y])\n",
    "    SCE = sum([c['ni']*(c['moyenne_classe']-moyenne_y)**2 for c in classes])\n",
    "    return SCE/SCT\n",
    "    \n",
    "eta_squared(age_categ[X],age_categ[Y])"
   ]
  },
  {
   "cell_type": "markdown",
   "metadata": {},
   "source": [
    "Le calcul d'Eta carré étant très proche de 0, nous ne pouvons pas étalir de correlation entre la variable catégorie et la variable âge. Nous le constatons également grace aux boites à moustaches, elles prennent des valeurs comparables pour les catégories 0 et 1 mais différentes pour la catégorie 2."
   ]
  },
  {
   "cell_type": "code",
   "execution_count": null,
   "metadata": {},
   "outputs": [],
   "source": []
  }
 ],
 "metadata": {
  "kernelspec": {
   "display_name": "Python 3",
   "language": "python",
   "name": "python3"
  },
  "language_info": {
   "codemirror_mode": {
    "name": "ipython",
    "version": 3
   },
   "file_extension": ".py",
   "mimetype": "text/x-python",
   "name": "python",
   "nbconvert_exporter": "python",
   "pygments_lexer": "ipython3",
   "version": "3.7.6"
  }
 },
 "nbformat": 4,
 "nbformat_minor": 4
}
